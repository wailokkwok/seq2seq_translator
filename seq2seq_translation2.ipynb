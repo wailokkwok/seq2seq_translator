{
  "nbformat": 4,
  "nbformat_minor": 0,
  "metadata": {
    "colab": {
      "provenance": [],
      "authorship_tag": "ABX9TyOKhbzd0unk4n1FiYj485sA",
      "include_colab_link": true
    },
    "kernelspec": {
      "name": "python3",
      "display_name": "Python 3"
    },
    "language_info": {
      "name": "python"
    }
  },
  "cells": [
    {
      "cell_type": "markdown",
      "metadata": {
        "id": "view-in-github",
        "colab_type": "text"
      },
      "source": [
        "<a href=\"https://colab.research.google.com/github/wailokkwok/seq2seq_translator/blob/main/seq2seq_translation2.ipynb\" target=\"_parent\"><img src=\"https://colab.research.google.com/assets/colab-badge.svg\" alt=\"Open In Colab\"/></a>"
      ]
    },
    {
      "cell_type": "code",
      "execution_count": null,
      "metadata": {
        "id": "haZO6pAiHi1r"
      },
      "outputs": [],
      "source": [
        "with open('yue.txt') as f:\n",
        "    lines = f.readlines()\n",
        "\n",
        "df = lines\n",
        "\n",
        "df1 = []\n",
        "for x in df:\n",
        "  df1.append(x.split(\"\\t\"))"
      ]
    },
    {
      "cell_type": "code",
      "source": [
        "eng_ds = []\n",
        "chin_ds = []\n",
        "\n",
        "for data in df1:\n",
        "  eng_sen = []\n",
        "  eng_sen.append(data[0].split())\n",
        "  eng_ds.append(eng_sen)\n",
        "\n",
        "  chin_sen = []\n",
        "  for char in data[1]:\n",
        "    chin_sen.append(char)\n",
        "  chin_sen.append(\"<end>\")\n",
        "  chin_sen.insert(0, \"<start>\")\n",
        "\n",
        "  chin_ds.append(chin_sen)\n",
        "\n",
        "\n",
        "\n",
        "\n",
        "\n",
        "\n",
        "\n",
        "\n",
        "\n",
        "\n",
        "\n",
        "\n",
        "\n",
        "\n",
        "\n",
        "\n",
        "\n",
        "\n"
      ],
      "metadata": {
        "id": "ZdiElavjH4rN"
      },
      "execution_count": null,
      "outputs": []
    },
    {
      "cell_type": "code",
      "source": [
        "print(chin_ds[0])"
      ],
      "metadata": {
        "colab": {
          "base_uri": "https://localhost:8080/"
        },
        "id": "7aRmQXXohSIH",
        "outputId": "6604cf78-e1fe-4276-a45b-9d7b73617493"
      },
      "execution_count": null,
      "outputs": [
        {
          "output_type": "stream",
          "name": "stdout",
          "text": [
            "['<start>', '開', '始', '啦', '。', '<end>']\n"
          ]
        }
      ]
    },
    {
      "cell_type": "markdown",
      "source": [
        "# Build dictionary for English and Chinese ds\n",
        "\n",
        "\n"
      ],
      "metadata": {
        "id": "RBehXnchobie"
      }
    },
    {
      "cell_type": "code",
      "source": [
        "print(chin_ds[0][0])"
      ],
      "metadata": {
        "colab": {
          "base_uri": "https://localhost:8080/"
        },
        "id": "Ns09FEDTg64M",
        "outputId": "923c9357-2229-4ed9-a898-06c56ef02305"
      },
      "execution_count": null,
      "outputs": [
        {
          "output_type": "stream",
          "name": "stdout",
          "text": [
            "<start>\n"
          ]
        }
      ]
    },
    {
      "cell_type": "code",
      "source": [
        "eng_dic = {}\n",
        "chin_dic = {}"
      ],
      "metadata": {
        "id": "IEBuLk-Kpd-R"
      },
      "execution_count": null,
      "outputs": []
    },
    {
      "cell_type": "code",
      "source": [
        "x = 0\n",
        "y = 0\n",
        "\n",
        "for eng_sentence in eng_ds:\n",
        "  for eng_char in eng_sentence[0]:\n",
        "    if eng_char not in eng_dic.keys():\n",
        "      eng_dic[eng_char] = x\n",
        "      x += 1\n",
        "\n",
        "for chin_sentence in chin_ds:\n",
        "  for chin_char in chin_sentence:\n",
        "    if chin_char not in chin_dic.keys():\n",
        "      chin_dic[chin_char] = y\n",
        "      y += 1\n",
        "\n",
        "\n"
      ],
      "metadata": {
        "id": "nc5mBMq5qRCD"
      },
      "execution_count": null,
      "outputs": []
    },
    {
      "cell_type": "code",
      "source": [
        "ha = []\n",
        "for text in eng_ds:\n",
        "  ha.append(text[0])\n",
        "\n",
        "\n",
        "max_encoder_seq_length = max([len(text) for text in ha])"
      ],
      "metadata": {
        "id": "ikudd6tB5Ift"
      },
      "execution_count": null,
      "outputs": []
    },
    {
      "cell_type": "code",
      "source": [
        "max_decoder_seq_length = max([len(text) for text in chin_ds])"
      ],
      "metadata": {
        "id": "6LGpIQiL538t"
      },
      "execution_count": null,
      "outputs": []
    },
    {
      "cell_type": "markdown",
      "source": [
        "# One hot encode to input, output and target"
      ],
      "metadata": {
        "id": "E0LznsFnnVNs"
      }
    },
    {
      "cell_type": "code",
      "source": [
        "import numpy as np\n",
        "\n",
        "one_hot_eng = np.zeros((len(eng_ds), max_encoder_seq_length,len(eng_dic)))\n",
        "one_hot_chin = np.zeros((len(chin_ds),max_decoder_seq_length,len(chin_dic)))\n",
        "one_hot_chin_target = np.zeros((len(chin_ds),max_decoder_seq_length,len(chin_dic)))"
      ],
      "metadata": {
        "id": "kiyiWVsVnt-_"
      },
      "execution_count": null,
      "outputs": []
    },
    {
      "cell_type": "code",
      "source": [
        "eng_ds[0][0]"
      ],
      "metadata": {
        "colab": {
          "base_uri": "https://localhost:8080/"
        },
        "id": "1BZ9NL6edUlo",
        "outputId": "6202ea69-883a-439f-efe4-a17da2233e65"
      },
      "execution_count": null,
      "outputs": [
        {
          "output_type": "execute_result",
          "data": {
            "text/plain": [
              "['Begin.']"
            ]
          },
          "metadata": {},
          "execution_count": 10
        }
      ]
    },
    {
      "cell_type": "code",
      "source": [
        "for index, eng_sentence in enumerate(eng_ds):\n",
        "  for eng_char in eng_sentence:\n",
        "    for x_index, char in enumerate(eng_char):\n",
        "      h = eng_dic[char]\n",
        "      one_hot_eng[index][x_index][h] = 1\n",
        "\n",
        "\n"
      ],
      "metadata": {
        "id": "zHbosrGDnDcJ"
      },
      "execution_count": null,
      "outputs": []
    },
    {
      "cell_type": "code",
      "source": [
        "for index, chin_sentence in enumerate(chin_ds):\n",
        "  for x_index, char in enumerate(chin_sentence):\n",
        "    h = chin_dic[char]\n",
        "    one_hot_chin[index][x_index][h] = 1\n"
      ],
      "metadata": {
        "id": "aLKHB6rDuCtT"
      },
      "execution_count": null,
      "outputs": []
    },
    {
      "cell_type": "code",
      "source": [
        "for index, chin_sentence in enumerate(chin_ds):\n",
        "  for x_index, char in enumerate(chin_sentence):\n",
        "    h = chin_dic[char]\n",
        "    one_hot_chin_target[index][x_index-1][h] = 1"
      ],
      "metadata": {
        "id": "6SeKGmN6wQqE"
      },
      "execution_count": null,
      "outputs": []
    },
    {
      "cell_type": "code",
      "source": [
        "print(one_hot_eng.shape, one_hot_chin.shape, one_hot_chin_target.shape)"
      ],
      "metadata": {
        "colab": {
          "base_uri": "https://localhost:8080/"
        },
        "id": "BesbuImhBmEV",
        "outputId": "c72ce267-3961-42a7-e65d-1380d7acaf4a"
      },
      "execution_count": null,
      "outputs": [
        {
          "output_type": "stream",
          "name": "stdout",
          "text": [
            "(3293, 32, 4103) (3293, 47, 1580) (3293, 47, 1580)\n"
          ]
        }
      ]
    },
    {
      "cell_type": "code",
      "source": [
        "len(one_hot_chin[0][0])"
      ],
      "metadata": {
        "colab": {
          "base_uri": "https://localhost:8080/"
        },
        "id": "wRNK5YZ2B1Tr",
        "outputId": "84e0ccf2-19e7-4cb1-b9ed-c677101488f6"
      },
      "execution_count": null,
      "outputs": [
        {
          "output_type": "execute_result",
          "data": {
            "text/plain": [
              "1580"
            ]
          },
          "metadata": {},
          "execution_count": 15
        }
      ]
    },
    {
      "cell_type": "markdown",
      "source": [
        "# Write Encoder"
      ],
      "metadata": {
        "id": "iU62tE7Ewbwg"
      }
    },
    {
      "cell_type": "code",
      "source": [
        "from keras.models import Model\n",
        "from keras.layers import Input, LSTM, Dense\n",
        "\n",
        "encoder_model = Input(shape = (None,len(one_hot_eng[0][0])))\n",
        "_, h, c = LSTM(256, return_state = True)(encoder_model)\n",
        "encoder_states = [h,c]"
      ],
      "metadata": {
        "id": "o6Kw6QH_weMo"
      },
      "execution_count": null,
      "outputs": []
    },
    {
      "cell_type": "markdown",
      "source": [
        "# Write Decoder"
      ],
      "metadata": {
        "id": "qAThjhnExb_K"
      }
    },
    {
      "cell_type": "code",
      "source": [
        "decoder_model = Input(shape=(None, len(one_hot_chin[0][0])))\n",
        "decoder_output = LSTM(256, return_sequences=True)(decoder_model,  initial_state = encoder_states)\n",
        "decoder_softmax = Dense(len(one_hot_chin[0][0]), activation='softmax')(decoder_output)\n",
        "\n",
        "\n"
      ],
      "metadata": {
        "id": "Umt3st8MxeFK"
      },
      "execution_count": null,
      "outputs": []
    },
    {
      "cell_type": "markdown",
      "source": [
        "# Encoder, Decoder"
      ],
      "metadata": {
        "id": "G79D-VwVy6lE"
      }
    },
    {
      "cell_type": "code",
      "source": [
        "model = Model ([encoder_model, decoder_model], decoder_softmax)\n",
        "model.compile(optimizer='rmsprop',loss='categorical_crossentropy',metrics=['accuracy'])\n"
      ],
      "metadata": {
        "id": "GMaGvkFVy9uJ"
      },
      "execution_count": null,
      "outputs": []
    },
    {
      "cell_type": "code",
      "source": [
        "model.fit(x=[one_hot_eng, one_hot_chin], y=one_hot_chin_target,\n",
        "          batch_size = 64, epochs=100)"
      ],
      "metadata": {
        "colab": {
          "base_uri": "https://localhost:8080/"
        },
        "id": "duMAtPgSzPGQ",
        "outputId": "3b364ded-8d7c-426d-abdf-4943b423c9f1"
      },
      "execution_count": null,
      "outputs": [
        {
          "output_type": "stream",
          "name": "stdout",
          "text": [
            "Epoch 1/100\n",
            "52/52 [==============================] - 95s 2s/step - loss: 1.6269\n",
            "Epoch 2/100\n",
            "52/52 [==============================] - 84s 2s/step - loss: 1.4770\n",
            "Epoch 3/100\n",
            "52/52 [==============================] - 83s 2s/step - loss: 1.4761\n",
            "Epoch 4/100\n",
            "52/52 [==============================] - 86s 2s/step - loss: 1.4708\n",
            "Epoch 5/100\n",
            "52/52 [==============================] - 89s 2s/step - loss: 1.4939\n",
            "Epoch 6/100\n",
            "52/52 [==============================] - 93s 2s/step - loss: 1.4993\n",
            "Epoch 7/100\n",
            "52/52 [==============================] - 88s 2s/step - loss: 1.4879\n",
            "Epoch 8/100\n",
            "52/52 [==============================] - 87s 2s/step - loss: 1.4733\n",
            "Epoch 9/100\n",
            "52/52 [==============================] - 88s 2s/step - loss: 1.4642\n",
            "Epoch 10/100\n",
            "52/52 [==============================] - 89s 2s/step - loss: 1.4563\n",
            "Epoch 11/100\n",
            "52/52 [==============================] - 87s 2s/step - loss: 1.4501\n",
            "Epoch 12/100\n",
            "52/52 [==============================] - 88s 2s/step - loss: 1.4449\n",
            "Epoch 13/100\n",
            "52/52 [==============================] - 91s 2s/step - loss: 1.4390\n",
            "Epoch 14/100\n",
            "52/52 [==============================] - 88s 2s/step - loss: 1.4330\n",
            "Epoch 15/100\n",
            "52/52 [==============================] - 88s 2s/step - loss: 1.4270\n",
            "Epoch 16/100\n",
            "52/52 [==============================] - 89s 2s/step - loss: 1.4224\n",
            "Epoch 17/100\n",
            "52/52 [==============================] - 88s 2s/step - loss: 1.4169\n",
            "Epoch 18/100\n",
            "52/52 [==============================] - 88s 2s/step - loss: 1.4107\n",
            "Epoch 19/100\n",
            "52/52 [==============================] - 90s 2s/step - loss: 1.4050\n",
            "Epoch 20/100\n",
            "52/52 [==============================] - 88s 2s/step - loss: 1.4005\n",
            "Epoch 21/100\n",
            "52/52 [==============================] - 89s 2s/step - loss: 1.3961\n",
            "Epoch 22/100\n",
            "52/52 [==============================] - 89s 2s/step - loss: 1.3911\n",
            "Epoch 23/100\n",
            "52/52 [==============================] - 88s 2s/step - loss: 1.3872\n",
            "Epoch 24/100\n",
            "52/52 [==============================] - 86s 2s/step - loss: 1.3827\n",
            "Epoch 25/100\n",
            "52/52 [==============================] - 90s 2s/step - loss: 1.3777\n",
            "Epoch 26/100\n",
            "52/52 [==============================] - 87s 2s/step - loss: 1.3750\n",
            "Epoch 27/100\n",
            "52/52 [==============================] - 87s 2s/step - loss: 1.3695\n",
            "Epoch 28/100\n",
            "52/52 [==============================] - 90s 2s/step - loss: 1.3646\n",
            "Epoch 29/100\n",
            "52/52 [==============================] - 87s 2s/step - loss: 1.3598\n",
            "Epoch 30/100\n",
            "52/52 [==============================] - 87s 2s/step - loss: 1.3549\n",
            "Epoch 31/100\n",
            "52/52 [==============================] - 87s 2s/step - loss: 1.3504\n",
            "Epoch 32/100\n",
            "52/52 [==============================] - 90s 2s/step - loss: 1.3466\n",
            "Epoch 33/100\n",
            "52/52 [==============================] - 87s 2s/step - loss: 1.3406\n",
            "Epoch 34/100\n",
            "52/52 [==============================] - 88s 2s/step - loss: 1.3358\n",
            "Epoch 35/100\n",
            "52/52 [==============================] - 90s 2s/step - loss: 1.3298\n",
            "Epoch 36/100\n",
            "52/52 [==============================] - 88s 2s/step - loss: 1.3231\n",
            "Epoch 37/100\n",
            "52/52 [==============================] - 86s 2s/step - loss: 1.3166\n",
            "Epoch 38/100\n",
            "52/52 [==============================] - 89s 2s/step - loss: 1.3118\n",
            "Epoch 39/100\n",
            "52/52 [==============================] - 87s 2s/step - loss: 1.3063\n",
            "Epoch 40/100\n",
            "52/52 [==============================] - 88s 2s/step - loss: 1.2992\n",
            "Epoch 41/100\n",
            "52/52 [==============================] - 88s 2s/step - loss: 1.2927\n",
            "Epoch 42/100\n",
            "52/52 [==============================] - 89s 2s/step - loss: 1.2855\n",
            "Epoch 43/100\n",
            "52/52 [==============================] - 88s 2s/step - loss: 1.2785\n",
            "Epoch 44/100\n",
            "52/52 [==============================] - 89s 2s/step - loss: 1.2726\n",
            "Epoch 45/100\n",
            "52/52 [==============================] - 91s 2s/step - loss: 1.2708\n",
            "Epoch 46/100\n",
            "52/52 [==============================] - 89s 2s/step - loss: 1.2621\n",
            "Epoch 47/100\n",
            "52/52 [==============================] - 88s 2s/step - loss: 1.2531\n",
            "Epoch 48/100\n",
            "52/52 [==============================] - 91s 2s/step - loss: 1.2458\n",
            "Epoch 49/100\n",
            "52/52 [==============================] - 88s 2s/step - loss: 1.2426\n",
            "Epoch 50/100\n",
            "52/52 [==============================] - 88s 2s/step - loss: 1.2350\n",
            "Epoch 51/100\n",
            "52/52 [==============================] - 90s 2s/step - loss: 1.2304\n",
            "Epoch 52/100\n",
            "52/52 [==============================] - 88s 2s/step - loss: 1.2218\n",
            "Epoch 53/100\n",
            "52/52 [==============================] - 88s 2s/step - loss: 1.2145\n",
            "Epoch 54/100\n",
            "52/52 [==============================] - 88s 2s/step - loss: 1.2066\n",
            "Epoch 55/100\n",
            "52/52 [==============================] - 89s 2s/step - loss: 1.2004\n",
            "Epoch 56/100\n",
            "52/52 [==============================] - 89s 2s/step - loss: 1.1937\n",
            "Epoch 57/100\n",
            "52/52 [==============================] - 87s 2s/step - loss: 1.1915\n",
            "Epoch 58/100\n",
            "52/52 [==============================] - 90s 2s/step - loss: 1.1888\n",
            "Epoch 59/100\n",
            "52/52 [==============================] - 87s 2s/step - loss: 1.1809\n",
            "Epoch 60/100\n",
            "52/52 [==============================] - 88s 2s/step - loss: 1.1730\n",
            "Epoch 61/100\n",
            "52/52 [==============================] - 90s 2s/step - loss: 1.1645\n",
            "Epoch 62/100\n",
            "52/52 [==============================] - 89s 2s/step - loss: 1.1567\n",
            "Epoch 63/100\n",
            "52/52 [==============================] - 87s 2s/step - loss: 1.1502\n",
            "Epoch 64/100\n",
            "52/52 [==============================] - 88s 2s/step - loss: 1.1437\n",
            "Epoch 65/100\n",
            "52/52 [==============================] - 89s 2s/step - loss: 1.1356\n",
            "Epoch 66/100\n",
            "52/52 [==============================] - 88s 2s/step - loss: 1.1301\n",
            "Epoch 67/100\n",
            "52/52 [==============================] - 88s 2s/step - loss: 1.1237\n",
            "Epoch 68/100\n",
            "52/52 [==============================] - 91s 2s/step - loss: 1.1194\n",
            "Epoch 69/100\n",
            "52/52 [==============================] - 87s 2s/step - loss: 1.1141\n",
            "Epoch 70/100\n",
            "52/52 [==============================] - 88s 2s/step - loss: 1.1067\n",
            "Epoch 71/100\n",
            "52/52 [==============================] - 89s 2s/step - loss: 1.1028\n",
            "Epoch 72/100\n",
            "52/52 [==============================] - 89s 2s/step - loss: 1.0931\n",
            "Epoch 73/100\n",
            "52/52 [==============================] - 89s 2s/step - loss: 1.0866\n",
            "Epoch 74/100\n",
            "52/52 [==============================] - 89s 2s/step - loss: 1.0792\n",
            "Epoch 75/100\n",
            "52/52 [==============================] - 88s 2s/step - loss: 1.0728\n",
            "Epoch 76/100\n",
            "52/52 [==============================] - 89s 2s/step - loss: 1.0658\n",
            "Epoch 77/100\n",
            "52/52 [==============================] - 87s 2s/step - loss: 1.0610\n",
            "Epoch 78/100\n",
            "52/52 [==============================] - 89s 2s/step - loss: 1.0544\n",
            "Epoch 79/100\n",
            "52/52 [==============================] - 89s 2s/step - loss: 1.0464\n",
            "Epoch 80/100\n",
            "52/52 [==============================] - 87s 2s/step - loss: 1.0398\n",
            "Epoch 81/100\n",
            "52/52 [==============================] - 87s 2s/step - loss: 1.0328\n",
            "Epoch 82/100\n",
            "52/52 [==============================] - 86s 2s/step - loss: 1.0273\n",
            "Epoch 83/100\n",
            "52/52 [==============================] - 89s 2s/step - loss: 1.0217\n",
            "Epoch 84/100\n",
            "52/52 [==============================] - 88s 2s/step - loss: 1.0180\n",
            "Epoch 85/100\n",
            "52/52 [==============================] - 87s 2s/step - loss: 1.0112\n",
            "Epoch 86/100\n",
            "52/52 [==============================] - 88s 2s/step - loss: 1.0029\n",
            "Epoch 87/100\n",
            "52/52 [==============================] - 89s 2s/step - loss: 0.9966\n",
            "Epoch 88/100\n",
            "52/52 [==============================] - 87s 2s/step - loss: 0.9907\n",
            "Epoch 89/100\n",
            "52/52 [==============================] - 90s 2s/step - loss: 0.9845\n",
            "Epoch 90/100\n",
            "52/52 [==============================] - 88s 2s/step - loss: 0.9787\n",
            "Epoch 91/100\n",
            "52/52 [==============================] - 89s 2s/step - loss: 0.9722\n",
            "Epoch 92/100\n",
            "52/52 [==============================] - 90s 2s/step - loss: 0.9658\n",
            "Epoch 93/100\n",
            "52/52 [==============================] - 90s 2s/step - loss: 0.9611\n",
            "Epoch 94/100\n",
            "52/52 [==============================] - 89s 2s/step - loss: 0.9570\n",
            "Epoch 95/100\n",
            "52/52 [==============================] - 88s 2s/step - loss: 0.9502\n",
            "Epoch 96/100\n",
            "52/52 [==============================] - 91s 2s/step - loss: 0.9422\n",
            "Epoch 97/100\n",
            "52/52 [==============================] - 89s 2s/step - loss: 0.9361\n",
            "Epoch 98/100\n",
            "52/52 [==============================] - 90s 2s/step - loss: 0.9304\n",
            "Epoch 99/100\n",
            "52/52 [==============================] - 92s 2s/step - loss: 0.9242\n",
            "Epoch 100/100\n",
            "52/52 [==============================] - 89s 2s/step - loss: 0.9186\n"
          ]
        },
        {
          "output_type": "execute_result",
          "data": {
            "text/plain": [
              "<keras.callbacks.History at 0x7f63d5f7b950>"
            ]
          },
          "metadata": {},
          "execution_count": 19
        }
      ]
    },
    {
      "cell_type": "markdown",
      "source": [
        "## Prediction"
      ],
      "metadata": {
        "id": "iU5CVLSZGJgx"
      }
    },
    {
      "cell_type": "code",
      "source": [
        "encoder_input = Model(inputs = encoder_model, outputs = encoder_states)\n",
        "\n",
        "decoder_states_h = Input(shape = (256))\n",
        "decoder_states_c = Input(shape = (256))\n",
        "decoder_input_states = [decoder_states_h,decoder_states_c]\n",
        "\n",
        "\n",
        "decoder_model = Input(shape=(None, len(one_hot_chin[0][0])))\n",
        "decoder_output, h, c = LSTM(256, return_sequences=True, return_state = True)(decoder_model, initial_state = decoder_input_states)\n",
        "decoder_output_states = [h,c]\n",
        "\n",
        "decoder_softmax = Dense(len(one_hot_chin[0][0]), activation='softmax')(decoder_output)\n",
        "\n",
        "decoder_output = Model (inputs = [decoder_model]+ decoder_input_states, outputs = [decoder_softmax]+ decoder_output_states)"
      ],
      "metadata": {
        "id": "wu9maq_wGPL3"
      },
      "execution_count": null,
      "outputs": []
    },
    {
      "cell_type": "code",
      "source": [
        "seed = \"What a nice day\"\n",
        "\n",
        "one_hot_seed = np.zeros((1, 1,len(eng_dic)))\n",
        "\n",
        "for index, x in enumerate(seed.split()):\n",
        "  one_hot_seed[0][0][eng_dic[x]] = 1"
      ],
      "metadata": {
        "id": "ZE2oAfhaJJvK"
      },
      "execution_count": null,
      "outputs": []
    },
    {
      "cell_type": "code",
      "source": [
        "decoder_input_states = encoder_input.predict(one_hot_seed)\n",
        "\n",
        "\n",
        "one_hot_output = np.zeros((1,1,len(chin_dic)))\n",
        "one_hot_output[0][0][chin_dic[\"<start>\"]] = 1\n",
        "\n",
        "\n",
        "\n",
        "\n",
        "\n",
        "\n"
      ],
      "metadata": {
        "colab": {
          "base_uri": "https://localhost:8080/"
        },
        "id": "AzsOpgKSKkc5",
        "outputId": "ca39c06a-be2a-4d7d-e1d7-e2f1dc75845f"
      },
      "execution_count": null,
      "outputs": [
        {
          "output_type": "stream",
          "name": "stdout",
          "text": [
            "1/1 [==============================] - 0s 25ms/step\n"
          ]
        }
      ]
    },
    {
      "cell_type": "code",
      "source": [
        "one_hot_output.shape"
      ],
      "metadata": {
        "colab": {
          "base_uri": "https://localhost:8080/"
        },
        "id": "9lKSNpoMF8vU",
        "outputId": "59514850-5b0b-4a05-ad95-3b05a3630b42"
      },
      "execution_count": null,
      "outputs": [
        {
          "output_type": "execute_result",
          "data": {
            "text/plain": [
              "(1, 1, 1580)"
            ]
          },
          "metadata": {},
          "execution_count": 28
        }
      ]
    },
    {
      "cell_type": "code",
      "source": [
        "line = \"\"\n",
        "hex = True\n",
        "\n",
        "output_token, h, c = decoder_output.predict([one_hot_output] + decoder_input_states)\n",
        "decoder_input_states = [h,c]\n",
        "answer = np.argmax(output_token)\n",
        "one_hot_output = np.zeros((1,1,len(chin_dic)))\n",
        "one_hot_output[0][0][answer] = 1\n",
        "\n",
        "while answer != 5:\n",
        "  output_token, h, c = decoder_output.predict([one_hot_output] + decoder_input_states)\n",
        "  decoder_input_states = [h,c]\n",
        "  answer = np.argmax(output_token)\n",
        "  one_hot_output = np.zeros((1,1,len(chin_dic)))\n",
        "  one_hot_output[0][0][answer] = 1\n",
        "\n",
        "  line += list(chin_dic.keys())[list(chin_dic.values()).index(answer)]\n",
        "  print(line)"
      ],
      "metadata": {
        "colab": {
          "base_uri": "https://localhost:8080/",
          "height": 1000
        },
        "id": "p9cTMel4VFyo",
        "outputId": "992fba01-ca2c-44c7-9096-403cf58e57cc"
      },
      "execution_count": null,
      "outputs": [
        {
          "output_type": "stream",
          "name": "stdout",
          "text": [
            "1/1 [==============================] - 0s 28ms/step\n",
            "1/1 [==============================] - 0s 25ms/step\n",
            "棄\n",
            "1/1 [==============================] - 0s 21ms/step\n",
            "棄士\n",
            "1/1 [==============================] - 0s 29ms/step\n",
            "棄士士\n",
            "1/1 [==============================] - 0s 24ms/step\n",
            "棄士士食\n",
            "1/1 [==============================] - 0s 27ms/step\n",
            "棄士士食墨\n",
            "1/1 [==============================] - 0s 23ms/step\n",
            "棄士士食墨叭\n",
            "1/1 [==============================] - 0s 31ms/step\n",
            "棄士士食墨叭隊\n",
            "1/1 [==============================] - 0s 23ms/step\n",
            "棄士士食墨叭隊把\n",
            "1/1 [==============================] - 0s 21ms/step\n",
            "棄士士食墨叭隊把把\n",
            "1/1 [==============================] - 0s 23ms/step\n",
            "棄士士食墨叭隊把把把\n",
            "1/1 [==============================] - 0s 30ms/step\n",
            "棄士士食墨叭隊把把把把\n",
            "1/1 [==============================] - 0s 31ms/step\n",
            "棄士士食墨叭隊把把把把把\n",
            "1/1 [==============================] - 0s 32ms/step\n",
            "棄士士食墨叭隊把把把把把比\n",
            "1/1 [==============================] - 0s 23ms/step\n",
            "棄士士食墨叭隊把把把把把比噃\n",
            "1/1 [==============================] - 0s 26ms/step\n",
            "棄士士食墨叭隊把把把把把比噃噃\n",
            "1/1 [==============================] - 0s 22ms/step\n",
            "棄士士食墨叭隊把把把把把比噃噃藍\n",
            "1/1 [==============================] - 0s 31ms/step\n",
            "棄士士食墨叭隊把把把把把比噃噃藍豪\n",
            "1/1 [==============================] - 0s 23ms/step\n",
            "棄士士食墨叭隊把把把把把比噃噃藍豪豪\n",
            "1/1 [==============================] - 0s 25ms/step\n",
            "棄士士食墨叭隊把把把把把比噃噃藍豪豪豪\n",
            "1/1 [==============================] - 0s 31ms/step\n",
            "棄士士食墨叭隊把把把把把比噃噃藍豪豪豪豪\n",
            "1/1 [==============================] - 0s 23ms/step\n",
            "棄士士食墨叭隊把把把把把比噃噃藍豪豪豪豪豪\n",
            "1/1 [==============================] - 0s 24ms/step\n",
            "棄士士食墨叭隊把把把把把比噃噃藍豪豪豪豪豪校\n",
            "1/1 [==============================] - 0s 23ms/step\n",
            "棄士士食墨叭隊把把把把把比噃噃藍豪豪豪豪豪校豪\n",
            "1/1 [==============================] - 0s 25ms/step\n",
            "棄士士食墨叭隊把把把把把比噃噃藍豪豪豪豪豪校豪9\n",
            "1/1 [==============================] - 0s 24ms/step\n",
            "棄士士食墨叭隊把把把把把比噃噃藍豪豪豪豪豪校豪99\n",
            "1/1 [==============================] - 0s 22ms/step\n",
            "棄士士食墨叭隊把把把把把比噃噃藍豪豪豪豪豪校豪99幾\n",
            "1/1 [==============================] - 0s 23ms/step\n",
            "棄士士食墨叭隊把把把把把比噃噃藍豪豪豪豪豪校豪99幾校\n",
            "1/1 [==============================] - 0s 23ms/step\n",
            "棄士士食墨叭隊把把把把把比噃噃藍豪豪豪豪豪校豪99幾校穩\n",
            "1/1 [==============================] - 0s 24ms/step\n",
            "棄士士食墨叭隊把把把把把比噃噃藍豪豪豪豪豪校豪99幾校穩舞\n",
            "1/1 [==============================] - 0s 25ms/step\n",
            "棄士士食墨叭隊把把把把把比噃噃藍豪豪豪豪豪校豪99幾校穩舞應\n",
            "1/1 [==============================] - 0s 24ms/step\n",
            "棄士士食墨叭隊把把把把把比噃噃藍豪豪豪豪豪校豪99幾校穩舞應向\n",
            "1/1 [==============================] - 0s 26ms/step\n",
            "棄士士食墨叭隊把把把把把比噃噃藍豪豪豪豪豪校豪99幾校穩舞應向呑\n",
            "1/1 [==============================] - 0s 23ms/step\n",
            "棄士士食墨叭隊把把把把把比噃噃藍豪豪豪豪豪校豪99幾校穩舞應向呑察\n",
            "1/1 [==============================] - 0s 22ms/step\n",
            "棄士士食墨叭隊把把把把把比噃噃藍豪豪豪豪豪校豪99幾校穩舞應向呑察覺\n",
            "1/1 [==============================] - 0s 25ms/step\n",
            "棄士士食墨叭隊把把把把把比噃噃藍豪豪豪豪豪校豪99幾校穩舞應向呑察覺急\n",
            "1/1 [==============================] - 0s 24ms/step\n",
            "棄士士食墨叭隊把把把把把比噃噃藍豪豪豪豪豪校豪99幾校穩舞應向呑察覺急費\n",
            "1/1 [==============================] - 0s 23ms/step\n",
            "棄士士食墨叭隊把把把把把比噃噃藍豪豪豪豪豪校豪99幾校穩舞應向呑察覺急費費\n",
            "1/1 [==============================] - 0s 26ms/step\n",
            "棄士士食墨叭隊把把把把把比噃噃藍豪豪豪豪豪校豪99幾校穩舞應向呑察覺急費費胃\n",
            "1/1 [==============================] - 0s 25ms/step\n",
            "棄士士食墨叭隊把把把把把比噃噃藍豪豪豪豪豪校豪99幾校穩舞應向呑察覺急費費胃胃\n",
            "1/1 [==============================] - 0s 24ms/step\n",
            "棄士士食墨叭隊把把把把把比噃噃藍豪豪豪豪豪校豪99幾校穩舞應向呑察覺急費費胃胃胃\n",
            "1/1 [==============================] - 0s 25ms/step\n",
            "棄士士食墨叭隊把把把把把比噃噃藍豪豪豪豪豪校豪99幾校穩舞應向呑察覺急費費胃胃胃個\n",
            "1/1 [==============================] - 0s 30ms/step\n",
            "棄士士食墨叭隊把把把把把比噃噃藍豪豪豪豪豪校豪99幾校穩舞應向呑察覺急費費胃胃胃個胃\n",
            "1/1 [==============================] - 0s 24ms/step\n",
            "棄士士食墨叭隊把把把把把比噃噃藍豪豪豪豪豪校豪99幾校穩舞應向呑察覺急費費胃胃胃個胃個\n",
            "1/1 [==============================] - 0s 31ms/step\n",
            "棄士士食墨叭隊把把把把把比噃噃藍豪豪豪豪豪校豪99幾校穩舞應向呑察覺急費費胃胃胃個胃個點\n",
            "1/1 [==============================] - 0s 23ms/step\n",
            "棄士士食墨叭隊把把把把把比噃噃藍豪豪豪豪豪校豪99幾校穩舞應向呑察覺急費費胃胃胃個胃個點典\n",
            "1/1 [==============================] - 0s 23ms/step\n",
            "棄士士食墨叭隊把把把把把比噃噃藍豪豪豪豪豪校豪99幾校穩舞應向呑察覺急費費胃胃胃個胃個點典百\n",
            "1/1 [==============================] - 0s 25ms/step\n",
            "棄士士食墨叭隊把把把把把比噃噃藍豪豪豪豪豪校豪99幾校穩舞應向呑察覺急費費胃胃胃個胃個點典百造\n",
            "1/1 [==============================] - 0s 24ms/step\n",
            "棄士士食墨叭隊把把把把把比噃噃藍豪豪豪豪豪校豪99幾校穩舞應向呑察覺急費費胃胃胃個胃個點典百造造\n",
            "1/1 [==============================] - 0s 23ms/step\n",
            "棄士士食墨叭隊把把把把把比噃噃藍豪豪豪豪豪校豪99幾校穩舞應向呑察覺急費費胃胃胃個胃個點典百造造造\n",
            "1/1 [==============================] - 0s 24ms/step\n",
            "棄士士食墨叭隊把把把把把比噃噃藍豪豪豪豪豪校豪99幾校穩舞應向呑察覺急費費胃胃胃個胃個點典百造造造造\n",
            "1/1 [==============================] - 0s 25ms/step\n",
            "棄士士食墨叭隊把把把把把比噃噃藍豪豪豪豪豪校豪99幾校穩舞應向呑察覺急費費胃胃胃個胃個點典百造造造造廈\n",
            "1/1 [==============================] - 0s 23ms/step\n",
            "棄士士食墨叭隊把把把把把比噃噃藍豪豪豪豪豪校豪99幾校穩舞應向呑察覺急費費胃胃胃個胃個點典百造造造造廈爺\n",
            "1/1 [==============================] - 0s 23ms/step\n",
            "棄士士食墨叭隊把把把把把比噃噃藍豪豪豪豪豪校豪99幾校穩舞應向呑察覺急費費胃胃胃個胃個點典百造造造造廈爺爺\n",
            "1/1 [==============================] - 0s 25ms/step\n",
            "棄士士食墨叭隊把把把把把比噃噃藍豪豪豪豪豪校豪99幾校穩舞應向呑察覺急費費胃胃胃個胃個點典百造造造造廈爺爺忌\n",
            "1/1 [==============================] - 0s 23ms/step\n",
            "棄士士食墨叭隊把把把把把比噃噃藍豪豪豪豪豪校豪99幾校穩舞應向呑察覺急費費胃胃胃個胃個點典百造造造造廈爺爺忌忌\n",
            "1/1 [==============================] - 0s 23ms/step\n",
            "棄士士食墨叭隊把把把把把比噃噃藍豪豪豪豪豪校豪99幾校穩舞應向呑察覺急費費胃胃胃個胃個點典百造造造造廈爺爺忌忌像\n",
            "1/1 [==============================] - 0s 23ms/step\n",
            "棄士士食墨叭隊把把把把把比噃噃藍豪豪豪豪豪校豪99幾校穩舞應向呑察覺急費費胃胃胃個胃個點典百造造造造廈爺爺忌忌像爺\n",
            "1/1 [==============================] - 0s 23ms/step\n",
            "棄士士食墨叭隊把把把把把比噃噃藍豪豪豪豪豪校豪99幾校穩舞應向呑察覺急費費胃胃胃個胃個點典百造造造造廈爺爺忌忌像爺橙\n",
            "1/1 [==============================] - 0s 32ms/step\n",
            "棄士士食墨叭隊把把把把把比噃噃藍豪豪豪豪豪校豪99幾校穩舞應向呑察覺急費費胃胃胃個胃個點典百造造造造廈爺爺忌忌像爺橙橙\n",
            "1/1 [==============================] - 0s 23ms/step\n",
            "棄士士食墨叭隊把把把把把比噃噃藍豪豪豪豪豪校豪99幾校穩舞應向呑察覺急費費胃胃胃個胃個點典百造造造造廈爺爺忌忌像爺橙橙橙\n",
            "1/1 [==============================] - 0s 23ms/step\n",
            "棄士士食墨叭隊把把把把把比噃噃藍豪豪豪豪豪校豪99幾校穩舞應向呑察覺急費費胃胃胃個胃個點典百造造造造廈爺爺忌忌像爺橙橙橙橙\n",
            "1/1 [==============================] - 0s 24ms/step\n",
            "棄士士食墨叭隊把把把把把比噃噃藍豪豪豪豪豪校豪99幾校穩舞應向呑察覺急費費胃胃胃個胃個點典百造造造造廈爺爺忌忌像爺橙橙橙橙湯\n",
            "1/1 [==============================] - 0s 23ms/step\n",
            "棄士士食墨叭隊把把把把把比噃噃藍豪豪豪豪豪校豪99幾校穩舞應向呑察覺急費費胃胃胃個胃個點典百造造造造廈爺爺忌忌像爺橙橙橙橙湯層\n",
            "1/1 [==============================] - 0s 24ms/step\n",
            "棄士士食墨叭隊把把把把把比噃噃藍豪豪豪豪豪校豪99幾校穩舞應向呑察覺急費費胃胃胃個胃個點典百造造造造廈爺爺忌忌像爺橙橙橙橙湯層層\n",
            "1/1 [==============================] - 0s 24ms/step\n",
            "棄士士食墨叭隊把把把把把比噃噃藍豪豪豪豪豪校豪99幾校穩舞應向呑察覺急費費胃胃胃個胃個點典百造造造造廈爺爺忌忌像爺橙橙橙橙湯層層書\n",
            "1/1 [==============================] - 0s 27ms/step\n",
            "棄士士食墨叭隊把把把把把比噃噃藍豪豪豪豪豪校豪99幾校穩舞應向呑察覺急費費胃胃胃個胃個點典百造造造造廈爺爺忌忌像爺橙橙橙橙湯層層書症\n",
            "1/1 [==============================] - 0s 24ms/step\n",
            "棄士士食墨叭隊把把把把把比噃噃藍豪豪豪豪豪校豪99幾校穩舞應向呑察覺急費費胃胃胃個胃個點典百造造造造廈爺爺忌忌像爺橙橙橙橙湯層層書症枯\n",
            "1/1 [==============================] - 0s 24ms/step\n",
            "棄士士食墨叭隊把把把把把比噃噃藍豪豪豪豪豪校豪99幾校穩舞應向呑察覺急費費胃胃胃個胃個點典百造造造造廈爺爺忌忌像爺橙橙橙橙湯層層書症枯葱\n",
            "1/1 [==============================] - 0s 25ms/step\n",
            "棄士士食墨叭隊把把把把把比噃噃藍豪豪豪豪豪校豪99幾校穩舞應向呑察覺急費費胃胃胃個胃個點典百造造造造廈爺爺忌忌像爺橙橙橙橙湯層層書症枯葱葱\n",
            "1/1 [==============================] - 0s 24ms/step\n",
            "棄士士食墨叭隊把把把把把比噃噃藍豪豪豪豪豪校豪99幾校穩舞應向呑察覺急費費胃胃胃個胃個點典百造造造造廈爺爺忌忌像爺橙橙橙橙湯層層書症枯葱葱葱\n",
            "1/1 [==============================] - 0s 25ms/step\n",
            "棄士士食墨叭隊把把把把把比噃噃藍豪豪豪豪豪校豪99幾校穩舞應向呑察覺急費費胃胃胃個胃個點典百造造造造廈爺爺忌忌像爺橙橙橙橙湯層層書症枯葱葱葱區\n",
            "1/1 [==============================] - 0s 24ms/step\n",
            "棄士士食墨叭隊把把把把把比噃噃藍豪豪豪豪豪校豪99幾校穩舞應向呑察覺急費費胃胃胃個胃個點典百造造造造廈爺爺忌忌像爺橙橙橙橙湯層層書症枯葱葱葱區區\n",
            "1/1 [==============================] - 0s 24ms/step\n",
            "棄士士食墨叭隊把把把把把比噃噃藍豪豪豪豪豪校豪99幾校穩舞應向呑察覺急費費胃胃胃個胃個點典百造造造造廈爺爺忌忌像爺橙橙橙橙湯層層書症枯葱葱葱區區區\n",
            "1/1 [==============================] - 0s 23ms/step\n",
            "棄士士食墨叭隊把把把把把比噃噃藍豪豪豪豪豪校豪99幾校穩舞應向呑察覺急費費胃胃胃個胃個點典百造造造造廈爺爺忌忌像爺橙橙橙橙湯層層書症枯葱葱葱區區區量\n",
            "1/1 [==============================] - 0s 23ms/step\n",
            "棄士士食墨叭隊把把把把把比噃噃藍豪豪豪豪豪校豪99幾校穩舞應向呑察覺急費費胃胃胃個胃個點典百造造造造廈爺爺忌忌像爺橙橙橙橙湯層層書症枯葱葱葱區區區量教\n",
            "1/1 [==============================] - 0s 25ms/step\n",
            "棄士士食墨叭隊把把把把把比噃噃藍豪豪豪豪豪校豪99幾校穩舞應向呑察覺急費費胃胃胃個胃個點典百造造造造廈爺爺忌忌像爺橙橙橙橙湯層層書症枯葱葱葱區區區量教令\n",
            "1/1 [==============================] - 0s 25ms/step\n",
            "棄士士食墨叭隊把把把把把比噃噃藍豪豪豪豪豪校豪99幾校穩舞應向呑察覺急費費胃胃胃個胃個點典百造造造造廈爺爺忌忌像爺橙橙橙橙湯層層書症枯葱葱葱區區區量教令洗\n",
            "1/1 [==============================] - 0s 27ms/step\n",
            "棄士士食墨叭隊把把把把把比噃噃藍豪豪豪豪豪校豪99幾校穩舞應向呑察覺急費費胃胃胃個胃個點典百造造造造廈爺爺忌忌像爺橙橙橙橙湯層層書症枯葱葱葱區區區量教令洗洗\n",
            "1/1 [==============================] - 0s 23ms/step\n",
            "棄士士食墨叭隊把把把把把比噃噃藍豪豪豪豪豪校豪99幾校穩舞應向呑察覺急費費胃胃胃個胃個點典百造造造造廈爺爺忌忌像爺橙橙橙橙湯層層書症枯葱葱葱區區區量教令洗洗洋\n",
            "1/1 [==============================] - 0s 30ms/step\n",
            "棄士士食墨叭隊把把把把把比噃噃藍豪豪豪豪豪校豪99幾校穩舞應向呑察覺急費費胃胃胃個胃個點典百造造造造廈爺爺忌忌像爺橙橙橙橙湯層層書症枯葱葱葱區區區量教令洗洗洋T\n",
            "1/1 [==============================] - 0s 23ms/step\n",
            "棄士士食墨叭隊把把把把把比噃噃藍豪豪豪豪豪校豪99幾校穩舞應向呑察覺急費費胃胃胃個胃個點典百造造造造廈爺爺忌忌像爺橙橙橙橙湯層層書症枯葱葱葱區區區量教令洗洗洋T爐\n",
            "1/1 [==============================] - 0s 25ms/step\n",
            "棄士士食墨叭隊把把把把把比噃噃藍豪豪豪豪豪校豪99幾校穩舞應向呑察覺急費費胃胃胃個胃個點典百造造造造廈爺爺忌忌像爺橙橙橙橙湯層層書症枯葱葱葱區區區量教令洗洗洋T爐戇\n",
            "1/1 [==============================] - 0s 24ms/step\n",
            "棄士士食墨叭隊把把把把把比噃噃藍豪豪豪豪豪校豪99幾校穩舞應向呑察覺急費費胃胃胃個胃個點典百造造造造廈爺爺忌忌像爺橙橙橙橙湯層層書症枯葱葱葱區區區量教令洗洗洋T爐戇戇\n",
            "1/1 [==============================] - 0s 24ms/step\n",
            "棄士士食墨叭隊把把把把把比噃噃藍豪豪豪豪豪校豪99幾校穩舞應向呑察覺急費費胃胃胃個胃個點典百造造造造廈爺爺忌忌像爺橙橙橙橙湯層層書症枯葱葱葱區區區量教令洗洗洋T爐戇戇肚\n",
            "1/1 [==============================] - 0s 30ms/step\n",
            "棄士士食墨叭隊把把把把把比噃噃藍豪豪豪豪豪校豪99幾校穩舞應向呑察覺急費費胃胃胃個胃個點典百造造造造廈爺爺忌忌像爺橙橙橙橙湯層層書症枯葱葱葱區區區量教令洗洗洋T爐戇戇肚贏\n",
            "1/1 [==============================] - 0s 23ms/step\n",
            "棄士士食墨叭隊把把把把把比噃噃藍豪豪豪豪豪校豪99幾校穩舞應向呑察覺急費費胃胃胃個胃個點典百造造造造廈爺爺忌忌像爺橙橙橙橙湯層層書症枯葱葱葱區區區量教令洗洗洋T爐戇戇肚贏佬\n",
            "1/1 [==============================] - 0s 23ms/step\n",
            "棄士士食墨叭隊把把把把把比噃噃藍豪豪豪豪豪校豪99幾校穩舞應向呑察覺急費費胃胃胃個胃個點典百造造造造廈爺爺忌忌像爺橙橙橙橙湯層層書症枯葱葱葱區區區量教令洗洗洋T爐戇戇肚贏佬番\n",
            "1/1 [==============================] - 0s 28ms/step\n",
            "棄士士食墨叭隊把把把把把比噃噃藍豪豪豪豪豪校豪99幾校穩舞應向呑察覺急費費胃胃胃個胃個點典百造造造造廈爺爺忌忌像爺橙橙橙橙湯層層書症枯葱葱葱區區區量教令洗洗洋T爐戇戇肚贏佬番脊\n",
            "1/1 [==============================] - 0s 22ms/step\n",
            "棄士士食墨叭隊把把把把把比噃噃藍豪豪豪豪豪校豪99幾校穩舞應向呑察覺急費費胃胃胃個胃個點典百造造造造廈爺爺忌忌像爺橙橙橙橙湯層層書症枯葱葱葱區區區量教令洗洗洋T爐戇戇肚贏佬番脊番\n",
            "1/1 [==============================] - 0s 23ms/step\n",
            "棄士士食墨叭隊把把把把把比噃噃藍豪豪豪豪豪校豪99幾校穩舞應向呑察覺急費費胃胃胃個胃個點典百造造造造廈爺爺忌忌像爺橙橙橙橙湯層層書症枯葱葱葱區區區量教令洗洗洋T爐戇戇肚贏佬番脊番預\n",
            "1/1 [==============================] - 0s 26ms/step\n",
            "棄士士食墨叭隊把把把把把比噃噃藍豪豪豪豪豪校豪99幾校穩舞應向呑察覺急費費胃胃胃個胃個點典百造造造造廈爺爺忌忌像爺橙橙橙橙湯層層書症枯葱葱葱區區區量教令洗洗洋T爐戇戇肚贏佬番脊番預載\n",
            "1/1 [==============================] - 0s 23ms/step\n",
            "棄士士食墨叭隊把把把把把比噃噃藍豪豪豪豪豪校豪99幾校穩舞應向呑察覺急費費胃胃胃個胃個點典百造造造造廈爺爺忌忌像爺橙橙橙橙湯層層書症枯葱葱葱區區區量教令洗洗洋T爐戇戇肚贏佬番脊番預載隊\n",
            "1/1 [==============================] - 0s 27ms/step\n",
            "棄士士食墨叭隊把把把把把比噃噃藍豪豪豪豪豪校豪99幾校穩舞應向呑察覺急費費胃胃胃個胃個點典百造造造造廈爺爺忌忌像爺橙橙橙橙湯層層書症枯葱葱葱區區區量教令洗洗洋T爐戇戇肚贏佬番脊番預載隊盆\n",
            "1/1 [==============================] - 0s 28ms/step\n",
            "棄士士食墨叭隊把把把把把比噃噃藍豪豪豪豪豪校豪99幾校穩舞應向呑察覺急費費胃胃胃個胃個點典百造造造造廈爺爺忌忌像爺橙橙橙橙湯層層書症枯葱葱葱區區區量教令洗洗洋T爐戇戇肚贏佬番脊番預載隊盆載\n",
            "1/1 [==============================] - 0s 26ms/step\n",
            "棄士士食墨叭隊把把把把把比噃噃藍豪豪豪豪豪校豪99幾校穩舞應向呑察覺急費費胃胃胃個胃個點典百造造造造廈爺爺忌忌像爺橙橙橙橙湯層層書症枯葱葱葱區區區量教令洗洗洋T爐戇戇肚贏佬番脊番預載隊盆載鬧\n",
            "1/1 [==============================] - 0s 23ms/step\n",
            "棄士士食墨叭隊把把把把把比噃噃藍豪豪豪豪豪校豪99幾校穩舞應向呑察覺急費費胃胃胃個胃個點典百造造造造廈爺爺忌忌像爺橙橙橙橙湯層層書症枯葱葱葱區區區量教令洗洗洋T爐戇戇肚贏佬番脊番預載隊盆載鬧明\n",
            "1/1 [==============================] - 0s 23ms/step\n",
            "棄士士食墨叭隊把把把把把比噃噃藍豪豪豪豪豪校豪99幾校穩舞應向呑察覺急費費胃胃胃個胃個點典百造造造造廈爺爺忌忌像爺橙橙橙橙湯層層書症枯葱葱葱區區區量教令洗洗洋T爐戇戇肚贏佬番脊番預載隊盆載鬧明明\n",
            "1/1 [==============================] - 0s 20ms/step\n",
            "棄士士食墨叭隊把把把把把比噃噃藍豪豪豪豪豪校豪99幾校穩舞應向呑察覺急費費胃胃胃個胃個點典百造造造造廈爺爺忌忌像爺橙橙橙橙湯層層書症枯葱葱葱區區區量教令洗洗洋T爐戇戇肚贏佬番脊番預載隊盆載鬧明明明\n",
            "1/1 [==============================] - 0s 25ms/step\n",
            "棄士士食墨叭隊把把把把把比噃噃藍豪豪豪豪豪校豪99幾校穩舞應向呑察覺急費費胃胃胃個胃個點典百造造造造廈爺爺忌忌像爺橙橙橙橙湯層層書症枯葱葱葱區區區量教令洗洗洋T爐戇戇肚贏佬番脊番預載隊盆載鬧明明明明\n",
            "1/1 [==============================] - 0s 21ms/step\n",
            "棄士士食墨叭隊把把把把把比噃噃藍豪豪豪豪豪校豪99幾校穩舞應向呑察覺急費費胃胃胃個胃個點典百造造造造廈爺爺忌忌像爺橙橙橙橙湯層層書症枯葱葱葱區區區量教令洗洗洋T爐戇戇肚贏佬番脊番預載隊盆載鬧明明明明繩\n",
            "1/1 [==============================] - 0s 34ms/step\n",
            "棄士士食墨叭隊把把把把把比噃噃藍豪豪豪豪豪校豪99幾校穩舞應向呑察覺急費費胃胃胃個胃個點典百造造造造廈爺爺忌忌像爺橙橙橙橙湯層層書症枯葱葱葱區區區量教令洗洗洋T爐戇戇肚贏佬番脊番預載隊盆載鬧明明明明繩磅\n",
            "1/1 [==============================] - 0s 24ms/step\n",
            "棄士士食墨叭隊把把把把把比噃噃藍豪豪豪豪豪校豪99幾校穩舞應向呑察覺急費費胃胃胃個胃個點典百造造造造廈爺爺忌忌像爺橙橙橙橙湯層層書症枯葱葱葱區區區量教令洗洗洋T爐戇戇肚贏佬番脊番預載隊盆載鬧明明明明繩磅繩\n",
            "1/1 [==============================] - 0s 24ms/step\n",
            "棄士士食墨叭隊把把把把把比噃噃藍豪豪豪豪豪校豪99幾校穩舞應向呑察覺急費費胃胃胃個胃個點典百造造造造廈爺爺忌忌像爺橙橙橙橙湯層層書症枯葱葱葱區區區量教令洗洗洋T爐戇戇肚贏佬番脊番預載隊盆載鬧明明明明繩磅繩磅\n",
            "1/1 [==============================] - 0s 32ms/step\n",
            "棄士士食墨叭隊把把把把把比噃噃藍豪豪豪豪豪校豪99幾校穩舞應向呑察覺急費費胃胃胃個胃個點典百造造造造廈爺爺忌忌像爺橙橙橙橙湯層層書症枯葱葱葱區區區量教令洗洗洋T爐戇戇肚贏佬番脊番預載隊盆載鬧明明明明繩磅繩磅多\n",
            "1/1 [==============================] - 0s 25ms/step\n",
            "棄士士食墨叭隊把把把把把比噃噃藍豪豪豪豪豪校豪99幾校穩舞應向呑察覺急費費胃胃胃個胃個點典百造造造造廈爺爺忌忌像爺橙橙橙橙湯層層書症枯葱葱葱區區區量教令洗洗洋T爐戇戇肚贏佬番脊番預載隊盆載鬧明明明明繩磅繩磅多寒\n",
            "1/1 [==============================] - 0s 26ms/step\n",
            "棄士士食墨叭隊把把把把把比噃噃藍豪豪豪豪豪校豪99幾校穩舞應向呑察覺急費費胃胃胃個胃個點典百造造造造廈爺爺忌忌像爺橙橙橙橙湯層層書症枯葱葱葱區區區量教令洗洗洋T爐戇戇肚贏佬番脊番預載隊盆載鬧明明明明繩磅繩磅多寒寒\n",
            "1/1 [==============================] - 0s 23ms/step\n",
            "棄士士食墨叭隊把把把把把比噃噃藍豪豪豪豪豪校豪99幾校穩舞應向呑察覺急費費胃胃胃個胃個點典百造造造造廈爺爺忌忌像爺橙橙橙橙湯層層書症枯葱葱葱區區區量教令洗洗洋T爐戇戇肚贏佬番脊番預載隊盆載鬧明明明明繩磅繩磅多寒寒袋\n",
            "1/1 [==============================] - 0s 23ms/step\n",
            "棄士士食墨叭隊把把把把把比噃噃藍豪豪豪豪豪校豪99幾校穩舞應向呑察覺急費費胃胃胃個胃個點典百造造造造廈爺爺忌忌像爺橙橙橙橙湯層層書症枯葱葱葱區區區量教令洗洗洋T爐戇戇肚贏佬番脊番預載隊盆載鬧明明明明繩磅繩磅多寒寒袋哨\n",
            "1/1 [==============================] - 0s 42ms/step\n",
            "棄士士食墨叭隊把把把把把比噃噃藍豪豪豪豪豪校豪99幾校穩舞應向呑察覺急費費胃胃胃個胃個點典百造造造造廈爺爺忌忌像爺橙橙橙橙湯層層書症枯葱葱葱區區區量教令洗洗洋T爐戇戇肚贏佬番脊番預載隊盆載鬧明明明明繩磅繩磅多寒寒袋哨寒\n",
            "1/1 [==============================] - 0s 25ms/step\n",
            "棄士士食墨叭隊把把把把把比噃噃藍豪豪豪豪豪校豪99幾校穩舞應向呑察覺急費費胃胃胃個胃個點典百造造造造廈爺爺忌忌像爺橙橙橙橙湯層層書症枯葱葱葱區區區量教令洗洗洋T爐戇戇肚贏佬番脊番預載隊盆載鬧明明明明繩磅繩磅多寒寒袋哨寒哨\n",
            "1/1 [==============================] - 0s 28ms/step\n",
            "棄士士食墨叭隊把把把把把比噃噃藍豪豪豪豪豪校豪99幾校穩舞應向呑察覺急費費胃胃胃個胃個點典百造造造造廈爺爺忌忌像爺橙橙橙橙湯層層書症枯葱葱葱區區區量教令洗洗洋T爐戇戇肚贏佬番脊番預載隊盆載鬧明明明明繩磅繩磅多寒寒袋哨寒哨瘡\n",
            "1/1 [==============================] - 0s 26ms/step\n",
            "棄士士食墨叭隊把把把把把比噃噃藍豪豪豪豪豪校豪99幾校穩舞應向呑察覺急費費胃胃胃個胃個點典百造造造造廈爺爺忌忌像爺橙橙橙橙湯層層書症枯葱葱葱區區區量教令洗洗洋T爐戇戇肚贏佬番脊番預載隊盆載鬧明明明明繩磅繩磅多寒寒袋哨寒哨瘡認\n",
            "1/1 [==============================] - 0s 23ms/step\n",
            "棄士士食墨叭隊把把把把把比噃噃藍豪豪豪豪豪校豪99幾校穩舞應向呑察覺急費費胃胃胃個胃個點典百造造造造廈爺爺忌忌像爺橙橙橙橙湯層層書症枯葱葱葱區區區量教令洗洗洋T爐戇戇肚贏佬番脊番預載隊盆載鬧明明明明繩磅繩磅多寒寒袋哨寒哨瘡認認\n",
            "1/1 [==============================] - 0s 20ms/step\n",
            "棄士士食墨叭隊把把把把把比噃噃藍豪豪豪豪豪校豪99幾校穩舞應向呑察覺急費費胃胃胃個胃個點典百造造造造廈爺爺忌忌像爺橙橙橙橙湯層層書症枯葱葱葱區區區量教令洗洗洋T爐戇戇肚贏佬番脊番預載隊盆載鬧明明明明繩磅繩磅多寒寒袋哨寒哨瘡認認認\n",
            "1/1 [==============================] - 0s 25ms/step\n",
            "棄士士食墨叭隊把把把把把比噃噃藍豪豪豪豪豪校豪99幾校穩舞應向呑察覺急費費胃胃胃個胃個點典百造造造造廈爺爺忌忌像爺橙橙橙橙湯層層書症枯葱葱葱區區區量教令洗洗洋T爐戇戇肚贏佬番脊番預載隊盆載鬧明明明明繩磅繩磅多寒寒袋哨寒哨瘡認認認騎\n",
            "1/1 [==============================] - 0s 25ms/step\n",
            "棄士士食墨叭隊把把把把把比噃噃藍豪豪豪豪豪校豪99幾校穩舞應向呑察覺急費費胃胃胃個胃個點典百造造造造廈爺爺忌忌像爺橙橙橙橙湯層層書症枯葱葱葱區區區量教令洗洗洋T爐戇戇肚贏佬番脊番預載隊盆載鬧明明明明繩磅繩磅多寒寒袋哨寒哨瘡認認認騎約\n",
            "1/1 [==============================] - 0s 23ms/step\n",
            "棄士士食墨叭隊把把把把把比噃噃藍豪豪豪豪豪校豪99幾校穩舞應向呑察覺急費費胃胃胃個胃個點典百造造造造廈爺爺忌忌像爺橙橙橙橙湯層層書症枯葱葱葱區區區量教令洗洗洋T爐戇戇肚贏佬番脊番預載隊盆載鬧明明明明繩磅繩磅多寒寒袋哨寒哨瘡認認認騎約約\n",
            "1/1 [==============================] - 0s 27ms/step\n",
            "棄士士食墨叭隊把把把把把比噃噃藍豪豪豪豪豪校豪99幾校穩舞應向呑察覺急費費胃胃胃個胃個點典百造造造造廈爺爺忌忌像爺橙橙橙橙湯層層書症枯葱葱葱區區區量教令洗洗洋T爐戇戇肚贏佬番脊番預載隊盆載鬧明明明明繩磅繩磅多寒寒袋哨寒哨瘡認認認騎約約」\n",
            "1/1 [==============================] - 0s 24ms/step\n",
            "棄士士食墨叭隊把把把把把比噃噃藍豪豪豪豪豪校豪99幾校穩舞應向呑察覺急費費胃胃胃個胃個點典百造造造造廈爺爺忌忌像爺橙橙橙橙湯層層書症枯葱葱葱區區區量教令洗洗洋T爐戇戇肚贏佬番脊番預載隊盆載鬧明明明明繩磅繩磅多寒寒袋哨寒哨瘡認認認騎約約」」\n",
            "1/1 [==============================] - 0s 22ms/step\n",
            "棄士士食墨叭隊把把把把把比噃噃藍豪豪豪豪豪校豪99幾校穩舞應向呑察覺急費費胃胃胃個胃個點典百造造造造廈爺爺忌忌像爺橙橙橙橙湯層層書症枯葱葱葱區區區量教令洗洗洋T爐戇戇肚贏佬番脊番預載隊盆載鬧明明明明繩磅繩磅多寒寒袋哨寒哨瘡認認認騎約約」」提\n",
            "1/1 [==============================] - 0s 29ms/step\n",
            "棄士士食墨叭隊把把把把把比噃噃藍豪豪豪豪豪校豪99幾校穩舞應向呑察覺急費費胃胃胃個胃個點典百造造造造廈爺爺忌忌像爺橙橙橙橙湯層層書症枯葱葱葱區區區量教令洗洗洋T爐戇戇肚贏佬番脊番預載隊盆載鬧明明明明繩磅繩磅多寒寒袋哨寒哨瘡認認認騎約約」」提計\n",
            "1/1 [==============================] - 0s 22ms/step\n",
            "棄士士食墨叭隊把把把把把比噃噃藍豪豪豪豪豪校豪99幾校穩舞應向呑察覺急費費胃胃胃個胃個點典百造造造造廈爺爺忌忌像爺橙橙橙橙湯層層書症枯葱葱葱區區區量教令洗洗洋T爐戇戇肚贏佬番脊番預載隊盆載鬧明明明明繩磅繩磅多寒寒袋哨寒哨瘡認認認騎約約」」提計署\n",
            "1/1 [==============================] - 0s 23ms/step\n",
            "棄士士食墨叭隊把把把把把比噃噃藍豪豪豪豪豪校豪99幾校穩舞應向呑察覺急費費胃胃胃個胃個點典百造造造造廈爺爺忌忌像爺橙橙橙橙湯層層書症枯葱葱葱區區區量教令洗洗洋T爐戇戇肚贏佬番脊番預載隊盆載鬧明明明明繩磅繩磅多寒寒袋哨寒哨瘡認認認騎約約」」提計署蠱\n",
            "1/1 [==============================] - 0s 23ms/step\n",
            "棄士士食墨叭隊把把把把把比噃噃藍豪豪豪豪豪校豪99幾校穩舞應向呑察覺急費費胃胃胃個胃個點典百造造造造廈爺爺忌忌像爺橙橙橙橙湯層層書症枯葱葱葱區區區量教令洗洗洋T爐戇戇肚贏佬番脊番預載隊盆載鬧明明明明繩磅繩磅多寒寒袋哨寒哨瘡認認認騎約約」」提計署蠱園\n",
            "1/1 [==============================] - 0s 20ms/step\n",
            "棄士士食墨叭隊把把把把把比噃噃藍豪豪豪豪豪校豪99幾校穩舞應向呑察覺急費費胃胃胃個胃個點典百造造造造廈爺爺忌忌像爺橙橙橙橙湯層層書症枯葱葱葱區區區量教令洗洗洋T爐戇戇肚贏佬番脊番預載隊盆載鬧明明明明繩磅繩磅多寒寒袋哨寒哨瘡認認認騎約約」」提計署蠱園呼\n",
            "1/1 [==============================] - 0s 33ms/step\n",
            "棄士士食墨叭隊把把把把把比噃噃藍豪豪豪豪豪校豪99幾校穩舞應向呑察覺急費費胃胃胃個胃個點典百造造造造廈爺爺忌忌像爺橙橙橙橙湯層層書症枯葱葱葱區區區量教令洗洗洋T爐戇戇肚贏佬番脊番預載隊盆載鬧明明明明繩磅繩磅多寒寒袋哨寒哨瘡認認認騎約約」」提計署蠱園呼球\n",
            "1/1 [==============================] - 0s 28ms/step\n",
            "棄士士食墨叭隊把把把把把比噃噃藍豪豪豪豪豪校豪99幾校穩舞應向呑察覺急費費胃胃胃個胃個點典百造造造造廈爺爺忌忌像爺橙橙橙橙湯層層書症枯葱葱葱區區區量教令洗洗洋T爐戇戇肚贏佬番脊番預載隊盆載鬧明明明明繩磅繩磅多寒寒袋哨寒哨瘡認認認騎約約」」提計署蠱園呼球由\n",
            "1/1 [==============================] - 0s 23ms/step\n",
            "棄士士食墨叭隊把把把把把比噃噃藍豪豪豪豪豪校豪99幾校穩舞應向呑察覺急費費胃胃胃個胃個點典百造造造造廈爺爺忌忌像爺橙橙橙橙湯層層書症枯葱葱葱區區區量教令洗洗洋T爐戇戇肚贏佬番脊番預載隊盆載鬧明明明明繩磅繩磅多寒寒袋哨寒哨瘡認認認騎約約」」提計署蠱園呼球由掛\n",
            "1/1 [==============================] - 0s 25ms/step\n",
            "棄士士食墨叭隊把把把把把比噃噃藍豪豪豪豪豪校豪99幾校穩舞應向呑察覺急費費胃胃胃個胃個點典百造造造造廈爺爺忌忌像爺橙橙橙橙湯層層書症枯葱葱葱區區區量教令洗洗洋T爐戇戇肚贏佬番脊番預載隊盆載鬧明明明明繩磅繩磅多寒寒袋哨寒哨瘡認認認騎約約」」提計署蠱園呼球由掛藝\n",
            "1/1 [==============================] - 0s 24ms/step\n",
            "棄士士食墨叭隊把把把把把比噃噃藍豪豪豪豪豪校豪99幾校穩舞應向呑察覺急費費胃胃胃個胃個點典百造造造造廈爺爺忌忌像爺橙橙橙橙湯層層書症枯葱葱葱區區區量教令洗洗洋T爐戇戇肚贏佬番脊番預載隊盆載鬧明明明明繩磅繩磅多寒寒袋哨寒哨瘡認認認騎約約」」提計署蠱園呼球由掛藝晒\n",
            "1/1 [==============================] - 0s 25ms/step\n",
            "棄士士食墨叭隊把把把把把比噃噃藍豪豪豪豪豪校豪99幾校穩舞應向呑察覺急費費胃胃胃個胃個點典百造造造造廈爺爺忌忌像爺橙橙橙橙湯層層書症枯葱葱葱區區區量教令洗洗洋T爐戇戇肚贏佬番脊番預載隊盆載鬧明明明明繩磅繩磅多寒寒袋哨寒哨瘡認認認騎約約」」提計署蠱園呼球由掛藝晒淺\n",
            "1/1 [==============================] - 0s 23ms/step\n",
            "棄士士食墨叭隊把把把把把比噃噃藍豪豪豪豪豪校豪99幾校穩舞應向呑察覺急費費胃胃胃個胃個點典百造造造造廈爺爺忌忌像爺橙橙橙橙湯層層書症枯葱葱葱區區區量教令洗洗洋T爐戇戇肚贏佬番脊番預載隊盆載鬧明明明明繩磅繩磅多寒寒袋哨寒哨瘡認認認騎約約」」提計署蠱園呼球由掛藝晒淺淺\n",
            "1/1 [==============================] - 0s 24ms/step\n",
            "棄士士食墨叭隊把把把把把比噃噃藍豪豪豪豪豪校豪99幾校穩舞應向呑察覺急費費胃胃胃個胃個點典百造造造造廈爺爺忌忌像爺橙橙橙橙湯層層書症枯葱葱葱區區區量教令洗洗洋T爐戇戇肚贏佬番脊番預載隊盆載鬧明明明明繩磅繩磅多寒寒袋哨寒哨瘡認認認騎約約」」提計署蠱園呼球由掛藝晒淺淺眼\n",
            "1/1 [==============================] - 0s 23ms/step\n",
            "棄士士食墨叭隊把把把把把比噃噃藍豪豪豪豪豪校豪99幾校穩舞應向呑察覺急費費胃胃胃個胃個點典百造造造造廈爺爺忌忌像爺橙橙橙橙湯層層書症枯葱葱葱區區區量教令洗洗洋T爐戇戇肚贏佬番脊番預載隊盆載鬧明明明明繩磅繩磅多寒寒袋哨寒哨瘡認認認騎約約」」提計署蠱園呼球由掛藝晒淺淺眼暑\n",
            "1/1 [==============================] - 0s 23ms/step\n",
            "棄士士食墨叭隊把把把把把比噃噃藍豪豪豪豪豪校豪99幾校穩舞應向呑察覺急費費胃胃胃個胃個點典百造造造造廈爺爺忌忌像爺橙橙橙橙湯層層書症枯葱葱葱區區區量教令洗洗洋T爐戇戇肚贏佬番脊番預載隊盆載鬧明明明明繩磅繩磅多寒寒袋哨寒哨瘡認認認騎約約」」提計署蠱園呼球由掛藝晒淺淺眼暑奧\n",
            "1/1 [==============================] - 0s 23ms/step\n",
            "棄士士食墨叭隊把把把把把比噃噃藍豪豪豪豪豪校豪99幾校穩舞應向呑察覺急費費胃胃胃個胃個點典百造造造造廈爺爺忌忌像爺橙橙橙橙湯層層書症枯葱葱葱區區區量教令洗洗洋T爐戇戇肚贏佬番脊番預載隊盆載鬧明明明明繩磅繩磅多寒寒袋哨寒哨瘡認認認騎約約」」提計署蠱園呼球由掛藝晒淺淺眼暑奧米\n",
            "1/1 [==============================] - 0s 26ms/step\n",
            "棄士士食墨叭隊把把把把把比噃噃藍豪豪豪豪豪校豪99幾校穩舞應向呑察覺急費費胃胃胃個胃個點典百造造造造廈爺爺忌忌像爺橙橙橙橙湯層層書症枯葱葱葱區區區量教令洗洗洋T爐戇戇肚贏佬番脊番預載隊盆載鬧明明明明繩磅繩磅多寒寒袋哨寒哨瘡認認認騎約約」」提計署蠱園呼球由掛藝晒淺淺眼暑奧米g\n",
            "1/1 [==============================] - 0s 20ms/step\n",
            "棄士士食墨叭隊把把把把把比噃噃藍豪豪豪豪豪校豪99幾校穩舞應向呑察覺急費費胃胃胃個胃個點典百造造造造廈爺爺忌忌像爺橙橙橙橙湯層層書症枯葱葱葱區區區量教令洗洗洋T爐戇戇肚贏佬番脊番預載隊盆載鬧明明明明繩磅繩磅多寒寒袋哨寒哨瘡認認認騎約約」」提計署蠱園呼球由掛藝晒淺淺眼暑奧米gg\n",
            "1/1 [==============================] - 0s 20ms/step\n",
            "棄士士食墨叭隊把把把把把比噃噃藍豪豪豪豪豪校豪99幾校穩舞應向呑察覺急費費胃胃胃個胃個點典百造造造造廈爺爺忌忌像爺橙橙橙橙湯層層書症枯葱葱葱區區區量教令洗洗洋T爐戇戇肚贏佬番脊番預載隊盆載鬧明明明明繩磅繩磅多寒寒袋哨寒哨瘡認認認騎約約」」提計署蠱園呼球由掛藝晒淺淺眼暑奧米ggg\n",
            "1/1 [==============================] - 0s 22ms/step\n",
            "棄士士食墨叭隊把把把把把比噃噃藍豪豪豪豪豪校豪99幾校穩舞應向呑察覺急費費胃胃胃個胃個點典百造造造造廈爺爺忌忌像爺橙橙橙橙湯層層書症枯葱葱葱區區區量教令洗洗洋T爐戇戇肚贏佬番脊番預載隊盆載鬧明明明明繩磅繩磅多寒寒袋哨寒哨瘡認認認騎約約」」提計署蠱園呼球由掛藝晒淺淺眼暑奧米ggg究\n",
            "1/1 [==============================] - 0s 23ms/step\n",
            "棄士士食墨叭隊把把把把把比噃噃藍豪豪豪豪豪校豪99幾校穩舞應向呑察覺急費費胃胃胃個胃個點典百造造造造廈爺爺忌忌像爺橙橙橙橙湯層層書症枯葱葱葱區區區量教令洗洗洋T爐戇戇肚贏佬番脊番預載隊盆載鬧明明明明繩磅繩磅多寒寒袋哨寒哨瘡認認認騎約約」」提計署蠱園呼球由掛藝晒淺淺眼暑奧米ggg究整\n",
            "1/1 [==============================] - 0s 25ms/step\n",
            "棄士士食墨叭隊把把把把把比噃噃藍豪豪豪豪豪校豪99幾校穩舞應向呑察覺急費費胃胃胃個胃個點典百造造造造廈爺爺忌忌像爺橙橙橙橙湯層層書症枯葱葱葱區區區量教令洗洗洋T爐戇戇肚贏佬番脊番預載隊盆載鬧明明明明繩磅繩磅多寒寒袋哨寒哨瘡認認認騎約約」」提計署蠱園呼球由掛藝晒淺淺眼暑奧米ggg究整養\n",
            "1/1 [==============================] - 0s 22ms/step\n",
            "棄士士食墨叭隊把把把把把比噃噃藍豪豪豪豪豪校豪99幾校穩舞應向呑察覺急費費胃胃胃個胃個點典百造造造造廈爺爺忌忌像爺橙橙橙橙湯層層書症枯葱葱葱區區區量教令洗洗洋T爐戇戇肚贏佬番脊番預載隊盆載鬧明明明明繩磅繩磅多寒寒袋哨寒哨瘡認認認騎約約」」提計署蠱園呼球由掛藝晒淺淺眼暑奧米ggg究整養g\n",
            "1/1 [==============================] - 0s 20ms/step\n",
            "棄士士食墨叭隊把把把把把比噃噃藍豪豪豪豪豪校豪99幾校穩舞應向呑察覺急費費胃胃胃個胃個點典百造造造造廈爺爺忌忌像爺橙橙橙橙湯層層書症枯葱葱葱區區區量教令洗洗洋T爐戇戇肚贏佬番脊番預載隊盆載鬧明明明明繩磅繩磅多寒寒袋哨寒哨瘡認認認騎約約」」提計署蠱園呼球由掛藝晒淺淺眼暑奧米ggg究整養g究\n",
            "1/1 [==============================] - 0s 22ms/step\n",
            "棄士士食墨叭隊把把把把把比噃噃藍豪豪豪豪豪校豪99幾校穩舞應向呑察覺急費費胃胃胃個胃個點典百造造造造廈爺爺忌忌像爺橙橙橙橙湯層層書症枯葱葱葱區區區量教令洗洗洋T爐戇戇肚贏佬番脊番預載隊盆載鬧明明明明繩磅繩磅多寒寒袋哨寒哨瘡認認認騎約約」」提計署蠱園呼球由掛藝晒淺淺眼暑奧米ggg究整養g究整\n",
            "1/1 [==============================] - 0s 23ms/step\n",
            "棄士士食墨叭隊把把把把把比噃噃藍豪豪豪豪豪校豪99幾校穩舞應向呑察覺急費費胃胃胃個胃個點典百造造造造廈爺爺忌忌像爺橙橙橙橙湯層層書症枯葱葱葱區區區量教令洗洗洋T爐戇戇肚贏佬番脊番預載隊盆載鬧明明明明繩磅繩磅多寒寒袋哨寒哨瘡認認認騎約約」」提計署蠱園呼球由掛藝晒淺淺眼暑奧米ggg究整養g究整摸\n",
            "1/1 [==============================] - 0s 25ms/step\n",
            "棄士士食墨叭隊把把把把把比噃噃藍豪豪豪豪豪校豪99幾校穩舞應向呑察覺急費費胃胃胃個胃個點典百造造造造廈爺爺忌忌像爺橙橙橙橙湯層層書症枯葱葱葱區區區量教令洗洗洋T爐戇戇肚贏佬番脊番預載隊盆載鬧明明明明繩磅繩磅多寒寒袋哨寒哨瘡認認認騎約約」」提計署蠱園呼球由掛藝晒淺淺眼暑奧米ggg究整養g究整摸諺\n",
            "1/1 [==============================] - 0s 21ms/step\n",
            "棄士士食墨叭隊把把把把把比噃噃藍豪豪豪豪豪校豪99幾校穩舞應向呑察覺急費費胃胃胃個胃個點典百造造造造廈爺爺忌忌像爺橙橙橙橙湯層層書症枯葱葱葱區區區量教令洗洗洋T爐戇戇肚贏佬番脊番預載隊盆載鬧明明明明繩磅繩磅多寒寒袋哨寒哨瘡認認認騎約約」」提計署蠱園呼球由掛藝晒淺淺眼暑奧米ggg究整養g究整摸諺民\n",
            "1/1 [==============================] - 0s 23ms/step\n",
            "棄士士食墨叭隊把把把把把比噃噃藍豪豪豪豪豪校豪99幾校穩舞應向呑察覺急費費胃胃胃個胃個點典百造造造造廈爺爺忌忌像爺橙橙橙橙湯層層書症枯葱葱葱區區區量教令洗洗洋T爐戇戇肚贏佬番脊番預載隊盆載鬧明明明明繩磅繩磅多寒寒袋哨寒哨瘡認認認騎約約」」提計署蠱園呼球由掛藝晒淺淺眼暑奧米ggg究整養g究整摸諺民民\n",
            "1/1 [==============================] - 0s 21ms/step\n",
            "棄士士食墨叭隊把把把把把比噃噃藍豪豪豪豪豪校豪99幾校穩舞應向呑察覺急費費胃胃胃個胃個點典百造造造造廈爺爺忌忌像爺橙橙橙橙湯層層書症枯葱葱葱區區區量教令洗洗洋T爐戇戇肚贏佬番脊番預載隊盆載鬧明明明明繩磅繩磅多寒寒袋哨寒哨瘡認認認騎約約」」提計署蠱園呼球由掛藝晒淺淺眼暑奧米ggg究整養g究整摸諺民民魔\n",
            "1/1 [==============================] - 0s 35ms/step\n",
            "棄士士食墨叭隊把把把把把比噃噃藍豪豪豪豪豪校豪99幾校穩舞應向呑察覺急費費胃胃胃個胃個點典百造造造造廈爺爺忌忌像爺橙橙橙橙湯層層書症枯葱葱葱區區區量教令洗洗洋T爐戇戇肚贏佬番脊番預載隊盆載鬧明明明明繩磅繩磅多寒寒袋哨寒哨瘡認認認騎約約」」提計署蠱園呼球由掛藝晒淺淺眼暑奧米ggg究整養g究整摸諺民民魔米\n",
            "1/1 [==============================] - 0s 20ms/step\n",
            "棄士士食墨叭隊把把把把把比噃噃藍豪豪豪豪豪校豪99幾校穩舞應向呑察覺急費費胃胃胃個胃個點典百造造造造廈爺爺忌忌像爺橙橙橙橙湯層層書症枯葱葱葱區區區量教令洗洗洋T爐戇戇肚贏佬番脊番預載隊盆載鬧明明明明繩磅繩磅多寒寒袋哨寒哨瘡認認認騎約約」」提計署蠱園呼球由掛藝晒淺淺眼暑奧米ggg究整養g究整摸諺民民魔米影\n",
            "1/1 [==============================] - 0s 22ms/step\n",
            "棄士士食墨叭隊把把把把把比噃噃藍豪豪豪豪豪校豪99幾校穩舞應向呑察覺急費費胃胃胃個胃個點典百造造造造廈爺爺忌忌像爺橙橙橙橙湯層層書症枯葱葱葱區區區量教令洗洗洋T爐戇戇肚贏佬番脊番預載隊盆載鬧明明明明繩磅繩磅多寒寒袋哨寒哨瘡認認認騎約約」」提計署蠱園呼球由掛藝晒淺淺眼暑奧米ggg究整養g究整摸諺民民魔米影影\n",
            "1/1 [==============================] - 0s 21ms/step\n",
            "棄士士食墨叭隊把把把把把比噃噃藍豪豪豪豪豪校豪99幾校穩舞應向呑察覺急費費胃胃胃個胃個點典百造造造造廈爺爺忌忌像爺橙橙橙橙湯層層書症枯葱葱葱區區區量教令洗洗洋T爐戇戇肚贏佬番脊番預載隊盆載鬧明明明明繩磅繩磅多寒寒袋哨寒哨瘡認認認騎約約」」提計署蠱園呼球由掛藝晒淺淺眼暑奧米ggg究整養g究整摸諺民民魔米影影離\n",
            "1/1 [==============================] - 0s 24ms/step\n",
            "棄士士食墨叭隊把把把把把比噃噃藍豪豪豪豪豪校豪99幾校穩舞應向呑察覺急費費胃胃胃個胃個點典百造造造造廈爺爺忌忌像爺橙橙橙橙湯層層書症枯葱葱葱區區區量教令洗洗洋T爐戇戇肚贏佬番脊番預載隊盆載鬧明明明明繩磅繩磅多寒寒袋哨寒哨瘡認認認騎約約」」提計署蠱園呼球由掛藝晒淺淺眼暑奧米ggg究整養g究整摸諺民民魔米影影離掌\n",
            "1/1 [==============================] - 0s 20ms/step\n",
            "棄士士食墨叭隊把把把把把比噃噃藍豪豪豪豪豪校豪99幾校穩舞應向呑察覺急費費胃胃胃個胃個點典百造造造造廈爺爺忌忌像爺橙橙橙橙湯層層書症枯葱葱葱區區區量教令洗洗洋T爐戇戇肚贏佬番脊番預載隊盆載鬧明明明明繩磅繩磅多寒寒袋哨寒哨瘡認認認騎約約」」提計署蠱園呼球由掛藝晒淺淺眼暑奧米ggg究整養g究整摸諺民民魔米影影離掌哲\n",
            "1/1 [==============================] - 0s 20ms/step\n",
            "棄士士食墨叭隊把把把把把比噃噃藍豪豪豪豪豪校豪99幾校穩舞應向呑察覺急費費胃胃胃個胃個點典百造造造造廈爺爺忌忌像爺橙橙橙橙湯層層書症枯葱葱葱區區區量教令洗洗洋T爐戇戇肚贏佬番脊番預載隊盆載鬧明明明明繩磅繩磅多寒寒袋哨寒哨瘡認認認騎約約」」提計署蠱園呼球由掛藝晒淺淺眼暑奧米ggg究整養g究整摸諺民民魔米影影離掌哲組\n",
            "1/1 [==============================] - 0s 26ms/step\n",
            "棄士士食墨叭隊把把把把把比噃噃藍豪豪豪豪豪校豪99幾校穩舞應向呑察覺急費費胃胃胃個胃個點典百造造造造廈爺爺忌忌像爺橙橙橙橙湯層層書症枯葱葱葱區區區量教令洗洗洋T爐戇戇肚贏佬番脊番預載隊盆載鬧明明明明繩磅繩磅多寒寒袋哨寒哨瘡認認認騎約約」」提計署蠱園呼球由掛藝晒淺淺眼暑奧米ggg究整養g究整摸諺民民魔米影影離掌哲組組\n",
            "1/1 [==============================] - 0s 21ms/step\n",
            "棄士士食墨叭隊把把把把把比噃噃藍豪豪豪豪豪校豪99幾校穩舞應向呑察覺急費費胃胃胃個胃個點典百造造造造廈爺爺忌忌像爺橙橙橙橙湯層層書症枯葱葱葱區區區量教令洗洗洋T爐戇戇肚贏佬番脊番預載隊盆載鬧明明明明繩磅繩磅多寒寒袋哨寒哨瘡認認認騎約約」」提計署蠱園呼球由掛藝晒淺淺眼暑奧米ggg究整養g究整摸諺民民魔米影影離掌哲組組組\n",
            "1/1 [==============================] - 0s 23ms/step\n",
            "棄士士食墨叭隊把把把把把比噃噃藍豪豪豪豪豪校豪99幾校穩舞應向呑察覺急費費胃胃胃個胃個點典百造造造造廈爺爺忌忌像爺橙橙橙橙湯層層書症枯葱葱葱區區區量教令洗洗洋T爐戇戇肚贏佬番脊番預載隊盆載鬧明明明明繩磅繩磅多寒寒袋哨寒哨瘡認認認騎約約」」提計署蠱園呼球由掛藝晒淺淺眼暑奧米ggg究整養g究整摸諺民民魔米影影離掌哲組組組組\n",
            "1/1 [==============================] - 0s 22ms/step\n",
            "棄士士食墨叭隊把把把把把比噃噃藍豪豪豪豪豪校豪99幾校穩舞應向呑察覺急費費胃胃胃個胃個點典百造造造造廈爺爺忌忌像爺橙橙橙橙湯層層書症枯葱葱葱區區區量教令洗洗洋T爐戇戇肚贏佬番脊番預載隊盆載鬧明明明明繩磅繩磅多寒寒袋哨寒哨瘡認認認騎約約」」提計署蠱園呼球由掛藝晒淺淺眼暑奧米ggg究整養g究整摸諺民民魔米影影離掌哲組組組組設\n",
            "1/1 [==============================] - 0s 21ms/step\n",
            "棄士士食墨叭隊把把把把把比噃噃藍豪豪豪豪豪校豪99幾校穩舞應向呑察覺急費費胃胃胃個胃個點典百造造造造廈爺爺忌忌像爺橙橙橙橙湯層層書症枯葱葱葱區區區量教令洗洗洋T爐戇戇肚贏佬番脊番預載隊盆載鬧明明明明繩磅繩磅多寒寒袋哨寒哨瘡認認認騎約約」」提計署蠱園呼球由掛藝晒淺淺眼暑奧米ggg究整養g究整摸諺民民魔米影影離掌哲組組組組設組\n",
            "1/1 [==============================] - 0s 27ms/step\n",
            "棄士士食墨叭隊把把把把把比噃噃藍豪豪豪豪豪校豪99幾校穩舞應向呑察覺急費費胃胃胃個胃個點典百造造造造廈爺爺忌忌像爺橙橙橙橙湯層層書症枯葱葱葱區區區量教令洗洗洋T爐戇戇肚贏佬番脊番預載隊盆載鬧明明明明繩磅繩磅多寒寒袋哨寒哨瘡認認認騎約約」」提計署蠱園呼球由掛藝晒淺淺眼暑奧米ggg究整養g究整摸諺民民魔米影影離掌哲組組組組設組組\n",
            "1/1 [==============================] - 0s 24ms/step\n",
            "棄士士食墨叭隊把把把把把比噃噃藍豪豪豪豪豪校豪99幾校穩舞應向呑察覺急費費胃胃胃個胃個點典百造造造造廈爺爺忌忌像爺橙橙橙橙湯層層書症枯葱葱葱區區區量教令洗洗洋T爐戇戇肚贏佬番脊番預載隊盆載鬧明明明明繩磅繩磅多寒寒袋哨寒哨瘡認認認騎約約」」提計署蠱園呼球由掛藝晒淺淺眼暑奧米ggg究整養g究整摸諺民民魔米影影離掌哲組組組組設組組組\n",
            "1/1 [==============================] - 0s 24ms/step\n",
            "棄士士食墨叭隊把把把把把比噃噃藍豪豪豪豪豪校豪99幾校穩舞應向呑察覺急費費胃胃胃個胃個點典百造造造造廈爺爺忌忌像爺橙橙橙橙湯層層書症枯葱葱葱區區區量教令洗洗洋T爐戇戇肚贏佬番脊番預載隊盆載鬧明明明明繩磅繩磅多寒寒袋哨寒哨瘡認認認騎約約」」提計署蠱園呼球由掛藝晒淺淺眼暑奧米ggg究整養g究整摸諺民民魔米影影離掌哲組組組組設組組組湖\n",
            "1/1 [==============================] - 0s 25ms/step\n",
            "棄士士食墨叭隊把把把把把比噃噃藍豪豪豪豪豪校豪99幾校穩舞應向呑察覺急費費胃胃胃個胃個點典百造造造造廈爺爺忌忌像爺橙橙橙橙湯層層書症枯葱葱葱區區區量教令洗洗洋T爐戇戇肚贏佬番脊番預載隊盆載鬧明明明明繩磅繩磅多寒寒袋哨寒哨瘡認認認騎約約」」提計署蠱園呼球由掛藝晒淺淺眼暑奧米ggg究整養g究整摸諺民民魔米影影離掌哲組組組組設組組組湖迪\n",
            "1/1 [==============================] - 0s 22ms/step\n",
            "棄士士食墨叭隊把把把把把比噃噃藍豪豪豪豪豪校豪99幾校穩舞應向呑察覺急費費胃胃胃個胃個點典百造造造造廈爺爺忌忌像爺橙橙橙橙湯層層書症枯葱葱葱區區區量教令洗洗洋T爐戇戇肚贏佬番脊番預載隊盆載鬧明明明明繩磅繩磅多寒寒袋哨寒哨瘡認認認騎約約」」提計署蠱園呼球由掛藝晒淺淺眼暑奧米ggg究整養g究整摸諺民民魔米影影離掌哲組組組組設組組組湖迪抵\n",
            "1/1 [==============================] - 0s 23ms/step\n",
            "棄士士食墨叭隊把把把把把比噃噃藍豪豪豪豪豪校豪99幾校穩舞應向呑察覺急費費胃胃胃個胃個點典百造造造造廈爺爺忌忌像爺橙橙橙橙湯層層書症枯葱葱葱區區區量教令洗洗洋T爐戇戇肚贏佬番脊番預載隊盆載鬧明明明明繩磅繩磅多寒寒袋哨寒哨瘡認認認騎約約」」提計署蠱園呼球由掛藝晒淺淺眼暑奧米ggg究整養g究整摸諺民民魔米影影離掌哲組組組組設組組組湖迪抵果\n",
            "1/1 [==============================] - 0s 24ms/step\n",
            "棄士士食墨叭隊把把把把把比噃噃藍豪豪豪豪豪校豪99幾校穩舞應向呑察覺急費費胃胃胃個胃個點典百造造造造廈爺爺忌忌像爺橙橙橙橙湯層層書症枯葱葱葱區區區量教令洗洗洋T爐戇戇肚贏佬番脊番預載隊盆載鬧明明明明繩磅繩磅多寒寒袋哨寒哨瘡認認認騎約約」」提計署蠱園呼球由掛藝晒淺淺眼暑奧米ggg究整養g究整摸諺民民魔米影影離掌哲組組組組設組組組湖迪抵果果\n",
            "1/1 [==============================] - 0s 24ms/step\n",
            "棄士士食墨叭隊把把把把把比噃噃藍豪豪豪豪豪校豪99幾校穩舞應向呑察覺急費費胃胃胃個胃個點典百造造造造廈爺爺忌忌像爺橙橙橙橙湯層層書症枯葱葱葱區區區量教令洗洗洋T爐戇戇肚贏佬番脊番預載隊盆載鬧明明明明繩磅繩磅多寒寒袋哨寒哨瘡認認認騎約約」」提計署蠱園呼球由掛藝晒淺淺眼暑奧米ggg究整養g究整摸諺民民魔米影影離掌哲組組組組設組組組湖迪抵果果活\n",
            "1/1 [==============================] - 0s 23ms/step\n",
            "棄士士食墨叭隊把把把把把比噃噃藍豪豪豪豪豪校豪99幾校穩舞應向呑察覺急費費胃胃胃個胃個點典百造造造造廈爺爺忌忌像爺橙橙橙橙湯層層書症枯葱葱葱區區區量教令洗洗洋T爐戇戇肚贏佬番脊番預載隊盆載鬧明明明明繩磅繩磅多寒寒袋哨寒哨瘡認認認騎約約」」提計署蠱園呼球由掛藝晒淺淺眼暑奧米ggg究整養g究整摸諺民民魔米影影離掌哲組組組組設組組組湖迪抵果果活點\n",
            "1/1 [==============================] - 0s 25ms/step\n",
            "棄士士食墨叭隊把把把把把比噃噃藍豪豪豪豪豪校豪99幾校穩舞應向呑察覺急費費胃胃胃個胃個點典百造造造造廈爺爺忌忌像爺橙橙橙橙湯層層書症枯葱葱葱區區區量教令洗洗洋T爐戇戇肚贏佬番脊番預載隊盆載鬧明明明明繩磅繩磅多寒寒袋哨寒哨瘡認認認騎約約」」提計署蠱園呼球由掛藝晒淺淺眼暑奧米ggg究整養g究整摸諺民民魔米影影離掌哲組組組組設組組組湖迪抵果果活點杯\n",
            "1/1 [==============================] - 0s 23ms/step\n",
            "棄士士食墨叭隊把把把把把比噃噃藍豪豪豪豪豪校豪99幾校穩舞應向呑察覺急費費胃胃胃個胃個點典百造造造造廈爺爺忌忌像爺橙橙橙橙湯層層書症枯葱葱葱區區區量教令洗洗洋T爐戇戇肚贏佬番脊番預載隊盆載鬧明明明明繩磅繩磅多寒寒袋哨寒哨瘡認認認騎約約」」提計署蠱園呼球由掛藝晒淺淺眼暑奧米ggg究整養g究整摸諺民民魔米影影離掌哲組組組組設組組組湖迪抵果果活點杯杯\n",
            "1/1 [==============================] - 0s 29ms/step\n",
            "棄士士食墨叭隊把把把把把比噃噃藍豪豪豪豪豪校豪99幾校穩舞應向呑察覺急費費胃胃胃個胃個點典百造造造造廈爺爺忌忌像爺橙橙橙橙湯層層書症枯葱葱葱區區區量教令洗洗洋T爐戇戇肚贏佬番脊番預載隊盆載鬧明明明明繩磅繩磅多寒寒袋哨寒哨瘡認認認騎約約」」提計署蠱園呼球由掛藝晒淺淺眼暑奧米ggg究整養g究整摸諺民民魔米影影離掌哲組組組組設組組組湖迪抵果果活點杯杯樽\n",
            "1/1 [==============================] - 0s 24ms/step\n",
            "棄士士食墨叭隊把把把把把比噃噃藍豪豪豪豪豪校豪99幾校穩舞應向呑察覺急費費胃胃胃個胃個點典百造造造造廈爺爺忌忌像爺橙橙橙橙湯層層書症枯葱葱葱區區區量教令洗洗洋T爐戇戇肚贏佬番脊番預載隊盆載鬧明明明明繩磅繩磅多寒寒袋哨寒哨瘡認認認騎約約」」提計署蠱園呼球由掛藝晒淺淺眼暑奧米ggg究整養g究整摸諺民民魔米影影離掌哲組組組組設組組組湖迪抵果果活點杯杯樽A\n",
            "1/1 [==============================] - 0s 26ms/step\n",
            "棄士士食墨叭隊把把把把把比噃噃藍豪豪豪豪豪校豪99幾校穩舞應向呑察覺急費費胃胃胃個胃個點典百造造造造廈爺爺忌忌像爺橙橙橙橙湯層層書症枯葱葱葱區區區量教令洗洗洋T爐戇戇肚贏佬番脊番預載隊盆載鬧明明明明繩磅繩磅多寒寒袋哨寒哨瘡認認認騎約約」」提計署蠱園呼球由掛藝晒淺淺眼暑奧米ggg究整養g究整摸諺民民魔米影影離掌哲組組組組設組組組湖迪抵果果活點杯杯樽AA\n",
            "1/1 [==============================] - 0s 25ms/step\n",
            "棄士士食墨叭隊把把把把把比噃噃藍豪豪豪豪豪校豪99幾校穩舞應向呑察覺急費費胃胃胃個胃個點典百造造造造廈爺爺忌忌像爺橙橙橙橙湯層層書症枯葱葱葱區區區量教令洗洗洋T爐戇戇肚贏佬番脊番預載隊盆載鬧明明明明繩磅繩磅多寒寒袋哨寒哨瘡認認認騎約約」」提計署蠱園呼球由掛藝晒淺淺眼暑奧米ggg究整養g究整摸諺民民魔米影影離掌哲組組組組設組組組湖迪抵果果活點杯杯樽AA乜\n",
            "1/1 [==============================] - 0s 24ms/step\n",
            "棄士士食墨叭隊把把把把把比噃噃藍豪豪豪豪豪校豪99幾校穩舞應向呑察覺急費費胃胃胃個胃個點典百造造造造廈爺爺忌忌像爺橙橙橙橙湯層層書症枯葱葱葱區區區量教令洗洗洋T爐戇戇肚贏佬番脊番預載隊盆載鬧明明明明繩磅繩磅多寒寒袋哨寒哨瘡認認認騎約約」」提計署蠱園呼球由掛藝晒淺淺眼暑奧米ggg究整養g究整摸諺民民魔米影影離掌哲組組組組設組組組湖迪抵果果活點杯杯樽AA乜乜\n",
            "1/1 [==============================] - 0s 25ms/step\n",
            "棄士士食墨叭隊把把把把把比噃噃藍豪豪豪豪豪校豪99幾校穩舞應向呑察覺急費費胃胃胃個胃個點典百造造造造廈爺爺忌忌像爺橙橙橙橙湯層層書症枯葱葱葱區區區量教令洗洗洋T爐戇戇肚贏佬番脊番預載隊盆載鬧明明明明繩磅繩磅多寒寒袋哨寒哨瘡認認認騎約約」」提計署蠱園呼球由掛藝晒淺淺眼暑奧米ggg究整養g究整摸諺民民魔米影影離掌哲組組組組設組組組湖迪抵果果活點杯杯樽AA乜乜戴\n",
            "1/1 [==============================] - 0s 25ms/step\n",
            "棄士士食墨叭隊把把把把把比噃噃藍豪豪豪豪豪校豪99幾校穩舞應向呑察覺急費費胃胃胃個胃個點典百造造造造廈爺爺忌忌像爺橙橙橙橙湯層層書症枯葱葱葱區區區量教令洗洗洋T爐戇戇肚贏佬番脊番預載隊盆載鬧明明明明繩磅繩磅多寒寒袋哨寒哨瘡認認認騎約約」」提計署蠱園呼球由掛藝晒淺淺眼暑奧米ggg究整養g究整摸諺民民魔米影影離掌哲組組組組設組組組湖迪抵果果活點杯杯樽AA乜乜戴歡\n",
            "1/1 [==============================] - 0s 22ms/step\n",
            "棄士士食墨叭隊把把把把把比噃噃藍豪豪豪豪豪校豪99幾校穩舞應向呑察覺急費費胃胃胃個胃個點典百造造造造廈爺爺忌忌像爺橙橙橙橙湯層層書症枯葱葱葱區區區量教令洗洗洋T爐戇戇肚贏佬番脊番預載隊盆載鬧明明明明繩磅繩磅多寒寒袋哨寒哨瘡認認認騎約約」」提計署蠱園呼球由掛藝晒淺淺眼暑奧米ggg究整養g究整摸諺民民魔米影影離掌哲組組組組設組組組湖迪抵果果活點杯杯樽AA乜乜戴歡歡\n",
            "1/1 [==============================] - 0s 23ms/step\n",
            "棄士士食墨叭隊把把把把把比噃噃藍豪豪豪豪豪校豪99幾校穩舞應向呑察覺急費費胃胃胃個胃個點典百造造造造廈爺爺忌忌像爺橙橙橙橙湯層層書症枯葱葱葱區區區量教令洗洗洋T爐戇戇肚贏佬番脊番預載隊盆載鬧明明明明繩磅繩磅多寒寒袋哨寒哨瘡認認認騎約約」」提計署蠱園呼球由掛藝晒淺淺眼暑奧米ggg究整養g究整摸諺民民魔米影影離掌哲組組組組設組組組湖迪抵果果活點杯杯樽AA乜乜戴歡歡为\n",
            "1/1 [==============================] - 0s 29ms/step\n",
            "棄士士食墨叭隊把把把把把比噃噃藍豪豪豪豪豪校豪99幾校穩舞應向呑察覺急費費胃胃胃個胃個點典百造造造造廈爺爺忌忌像爺橙橙橙橙湯層層書症枯葱葱葱區區區量教令洗洗洋T爐戇戇肚贏佬番脊番預載隊盆載鬧明明明明繩磅繩磅多寒寒袋哨寒哨瘡認認認騎約約」」提計署蠱園呼球由掛藝晒淺淺眼暑奧米ggg究整養g究整摸諺民民魔米影影離掌哲組組組組設組組組湖迪抵果果活點杯杯樽AA乜乜戴歡歡为为\n",
            "1/1 [==============================] - 0s 28ms/step\n",
            "棄士士食墨叭隊把把把把把比噃噃藍豪豪豪豪豪校豪99幾校穩舞應向呑察覺急費費胃胃胃個胃個點典百造造造造廈爺爺忌忌像爺橙橙橙橙湯層層書症枯葱葱葱區區區量教令洗洗洋T爐戇戇肚贏佬番脊番預載隊盆載鬧明明明明繩磅繩磅多寒寒袋哨寒哨瘡認認認騎約約」」提計署蠱園呼球由掛藝晒淺淺眼暑奧米ggg究整養g究整摸諺民民魔米影影離掌哲組組組組設組組組湖迪抵果果活點杯杯樽AA乜乜戴歡歡为为瞓\n",
            "1/1 [==============================] - 0s 23ms/step\n",
            "棄士士食墨叭隊把把把把把比噃噃藍豪豪豪豪豪校豪99幾校穩舞應向呑察覺急費費胃胃胃個胃個點典百造造造造廈爺爺忌忌像爺橙橙橙橙湯層層書症枯葱葱葱區區區量教令洗洗洋T爐戇戇肚贏佬番脊番預載隊盆載鬧明明明明繩磅繩磅多寒寒袋哨寒哨瘡認認認騎約約」」提計署蠱園呼球由掛藝晒淺淺眼暑奧米ggg究整養g究整摸諺民民魔米影影離掌哲組組組組設組組組湖迪抵果果活點杯杯樽AA乜乜戴歡歡为为瞓嘞\n",
            "1/1 [==============================] - 0s 37ms/step\n",
            "棄士士食墨叭隊把把把把把比噃噃藍豪豪豪豪豪校豪99幾校穩舞應向呑察覺急費費胃胃胃個胃個點典百造造造造廈爺爺忌忌像爺橙橙橙橙湯層層書症枯葱葱葱區區區量教令洗洗洋T爐戇戇肚贏佬番脊番預載隊盆載鬧明明明明繩磅繩磅多寒寒袋哨寒哨瘡認認認騎約約」」提計署蠱園呼球由掛藝晒淺淺眼暑奧米ggg究整養g究整摸諺民民魔米影影離掌哲組組組組設組組組湖迪抵果果活點杯杯樽AA乜乜戴歡歡为为瞓嘞嘞\n",
            "1/1 [==============================] - 0s 23ms/step\n",
            "棄士士食墨叭隊把把把把把比噃噃藍豪豪豪豪豪校豪99幾校穩舞應向呑察覺急費費胃胃胃個胃個點典百造造造造廈爺爺忌忌像爺橙橙橙橙湯層層書症枯葱葱葱區區區量教令洗洗洋T爐戇戇肚贏佬番脊番預載隊盆載鬧明明明明繩磅繩磅多寒寒袋哨寒哨瘡認認認騎約約」」提計署蠱園呼球由掛藝晒淺淺眼暑奧米ggg究整養g究整摸諺民民魔米影影離掌哲組組組組設組組組湖迪抵果果活點杯杯樽AA乜乜戴歡歡为为瞓嘞嘞斷\n",
            "1/1 [==============================] - 0s 27ms/step\n",
            "棄士士食墨叭隊把把把把把比噃噃藍豪豪豪豪豪校豪99幾校穩舞應向呑察覺急費費胃胃胃個胃個點典百造造造造廈爺爺忌忌像爺橙橙橙橙湯層層書症枯葱葱葱區區區量教令洗洗洋T爐戇戇肚贏佬番脊番預載隊盆載鬧明明明明繩磅繩磅多寒寒袋哨寒哨瘡認認認騎約約」」提計署蠱園呼球由掛藝晒淺淺眼暑奧米ggg究整養g究整摸諺民民魔米影影離掌哲組組組組設組組組湖迪抵果果活點杯杯樽AA乜乜戴歡歡为为瞓嘞嘞斷嘞\n",
            "1/1 [==============================] - 0s 25ms/step\n",
            "棄士士食墨叭隊把把把把把比噃噃藍豪豪豪豪豪校豪99幾校穩舞應向呑察覺急費費胃胃胃個胃個點典百造造造造廈爺爺忌忌像爺橙橙橙橙湯層層書症枯葱葱葱區區區量教令洗洗洋T爐戇戇肚贏佬番脊番預載隊盆載鬧明明明明繩磅繩磅多寒寒袋哨寒哨瘡認認認騎約約」」提計署蠱園呼球由掛藝晒淺淺眼暑奧米ggg究整養g究整摸諺民民魔米影影離掌哲組組組組設組組組湖迪抵果果活點杯杯樽AA乜乜戴歡歡为为瞓嘞嘞斷嘞斷\n",
            "1/1 [==============================] - 0s 23ms/step\n",
            "棄士士食墨叭隊把把把把把比噃噃藍豪豪豪豪豪校豪99幾校穩舞應向呑察覺急費費胃胃胃個胃個點典百造造造造廈爺爺忌忌像爺橙橙橙橙湯層層書症枯葱葱葱區區區量教令洗洗洋T爐戇戇肚贏佬番脊番預載隊盆載鬧明明明明繩磅繩磅多寒寒袋哨寒哨瘡認認認騎約約」」提計署蠱園呼球由掛藝晒淺淺眼暑奧米ggg究整養g究整摸諺民民魔米影影離掌哲組組組組設組組組湖迪抵果果活點杯杯樽AA乜乜戴歡歡为为瞓嘞嘞斷嘞斷模\n",
            "1/1 [==============================] - 0s 23ms/step\n",
            "棄士士食墨叭隊把把把把把比噃噃藍豪豪豪豪豪校豪99幾校穩舞應向呑察覺急費費胃胃胃個胃個點典百造造造造廈爺爺忌忌像爺橙橙橙橙湯層層書症枯葱葱葱區區區量教令洗洗洋T爐戇戇肚贏佬番脊番預載隊盆載鬧明明明明繩磅繩磅多寒寒袋哨寒哨瘡認認認騎約約」」提計署蠱園呼球由掛藝晒淺淺眼暑奧米ggg究整養g究整摸諺民民魔米影影離掌哲組組組組設組組組湖迪抵果果活點杯杯樽AA乜乜戴歡歡为为瞓嘞嘞斷嘞斷模模\n",
            "1/1 [==============================] - 0s 23ms/step\n",
            "棄士士食墨叭隊把把把把把比噃噃藍豪豪豪豪豪校豪99幾校穩舞應向呑察覺急費費胃胃胃個胃個點典百造造造造廈爺爺忌忌像爺橙橙橙橙湯層層書症枯葱葱葱區區區量教令洗洗洋T爐戇戇肚贏佬番脊番預載隊盆載鬧明明明明繩磅繩磅多寒寒袋哨寒哨瘡認認認騎約約」」提計署蠱園呼球由掛藝晒淺淺眼暑奧米ggg究整養g究整摸諺民民魔米影影離掌哲組組組組設組組組湖迪抵果果活點杯杯樽AA乜乜戴歡歡为为瞓嘞嘞斷嘞斷模模高\n",
            "1/1 [==============================] - 0s 23ms/step\n",
            "棄士士食墨叭隊把把把把把比噃噃藍豪豪豪豪豪校豪99幾校穩舞應向呑察覺急費費胃胃胃個胃個點典百造造造造廈爺爺忌忌像爺橙橙橙橙湯層層書症枯葱葱葱區區區量教令洗洗洋T爐戇戇肚贏佬番脊番預載隊盆載鬧明明明明繩磅繩磅多寒寒袋哨寒哨瘡認認認騎約約」」提計署蠱園呼球由掛藝晒淺淺眼暑奧米ggg究整養g究整摸諺民民魔米影影離掌哲組組組組設組組組湖迪抵果果活點杯杯樽AA乜乜戴歡歡为为瞓嘞嘞斷嘞斷模模高咋\n",
            "1/1 [==============================] - 0s 26ms/step\n",
            "棄士士食墨叭隊把把把把把比噃噃藍豪豪豪豪豪校豪99幾校穩舞應向呑察覺急費費胃胃胃個胃個點典百造造造造廈爺爺忌忌像爺橙橙橙橙湯層層書症枯葱葱葱區區區量教令洗洗洋T爐戇戇肚贏佬番脊番預載隊盆載鬧明明明明繩磅繩磅多寒寒袋哨寒哨瘡認認認騎約約」」提計署蠱園呼球由掛藝晒淺淺眼暑奧米ggg究整養g究整摸諺民民魔米影影離掌哲組組組組設組組組湖迪抵果果活點杯杯樽AA乜乜戴歡歡为为瞓嘞嘞斷嘞斷模模高咋高\n",
            "1/1 [==============================] - 0s 24ms/step\n",
            "棄士士食墨叭隊把把把把把比噃噃藍豪豪豪豪豪校豪99幾校穩舞應向呑察覺急費費胃胃胃個胃個點典百造造造造廈爺爺忌忌像爺橙橙橙橙湯層層書症枯葱葱葱區區區量教令洗洗洋T爐戇戇肚贏佬番脊番預載隊盆載鬧明明明明繩磅繩磅多寒寒袋哨寒哨瘡認認認騎約約」」提計署蠱園呼球由掛藝晒淺淺眼暑奧米ggg究整養g究整摸諺民民魔米影影離掌哲組組組組設組組組湖迪抵果果活點杯杯樽AA乜乜戴歡歡为为瞓嘞嘞斷嘞斷模模高咋高投\n",
            "1/1 [==============================] - 0s 24ms/step\n",
            "棄士士食墨叭隊把把把把把比噃噃藍豪豪豪豪豪校豪99幾校穩舞應向呑察覺急費費胃胃胃個胃個點典百造造造造廈爺爺忌忌像爺橙橙橙橙湯層層書症枯葱葱葱區區區量教令洗洗洋T爐戇戇肚贏佬番脊番預載隊盆載鬧明明明明繩磅繩磅多寒寒袋哨寒哨瘡認認認騎約約」」提計署蠱園呼球由掛藝晒淺淺眼暑奧米ggg究整養g究整摸諺民民魔米影影離掌哲組組組組設組組組湖迪抵果果活點杯杯樽AA乜乜戴歡歡为为瞓嘞嘞斷嘞斷模模高咋高投情\n",
            "1/1 [==============================] - 0s 25ms/step\n",
            "棄士士食墨叭隊把把把把把比噃噃藍豪豪豪豪豪校豪99幾校穩舞應向呑察覺急費費胃胃胃個胃個點典百造造造造廈爺爺忌忌像爺橙橙橙橙湯層層書症枯葱葱葱區區區量教令洗洗洋T爐戇戇肚贏佬番脊番預載隊盆載鬧明明明明繩磅繩磅多寒寒袋哨寒哨瘡認認認騎約約」」提計署蠱園呼球由掛藝晒淺淺眼暑奧米ggg究整養g究整摸諺民民魔米影影離掌哲組組組組設組組組湖迪抵果果活點杯杯樽AA乜乜戴歡歡为为瞓嘞嘞斷嘞斷模模高咋高投情夾\n",
            "1/1 [==============================] - 0s 23ms/step\n",
            "棄士士食墨叭隊把把把把把比噃噃藍豪豪豪豪豪校豪99幾校穩舞應向呑察覺急費費胃胃胃個胃個點典百造造造造廈爺爺忌忌像爺橙橙橙橙湯層層書症枯葱葱葱區區區量教令洗洗洋T爐戇戇肚贏佬番脊番預載隊盆載鬧明明明明繩磅繩磅多寒寒袋哨寒哨瘡認認認騎約約」」提計署蠱園呼球由掛藝晒淺淺眼暑奧米ggg究整養g究整摸諺民民魔米影影離掌哲組組組組設組組組湖迪抵果果活點杯杯樽AA乜乜戴歡歡为为瞓嘞嘞斷嘞斷模模高咋高投情夾王\n",
            "1/1 [==============================] - 0s 19ms/step\n",
            "棄士士食墨叭隊把把把把把比噃噃藍豪豪豪豪豪校豪99幾校穩舞應向呑察覺急費費胃胃胃個胃個點典百造造造造廈爺爺忌忌像爺橙橙橙橙湯層層書症枯葱葱葱區區區量教令洗洗洋T爐戇戇肚贏佬番脊番預載隊盆載鬧明明明明繩磅繩磅多寒寒袋哨寒哨瘡認認認騎約約」」提計署蠱園呼球由掛藝晒淺淺眼暑奧米ggg究整養g究整摸諺民民魔米影影離掌哲組組組組設組組組湖迪抵果果活點杯杯樽AA乜乜戴歡歡为为瞓嘞嘞斷嘞斷模模高咋高投情夾王站\n",
            "1/1 [==============================] - 0s 21ms/step\n",
            "棄士士食墨叭隊把把把把把比噃噃藍豪豪豪豪豪校豪99幾校穩舞應向呑察覺急費費胃胃胃個胃個點典百造造造造廈爺爺忌忌像爺橙橙橙橙湯層層書症枯葱葱葱區區區量教令洗洗洋T爐戇戇肚贏佬番脊番預載隊盆載鬧明明明明繩磅繩磅多寒寒袋哨寒哨瘡認認認騎約約」」提計署蠱園呼球由掛藝晒淺淺眼暑奧米ggg究整養g究整摸諺民民魔米影影離掌哲組組組組設組組組湖迪抵果果活點杯杯樽AA乜乜戴歡歡为为瞓嘞嘞斷嘞斷模模高咋高投情夾王站王\n",
            "1/1 [==============================] - 0s 20ms/step\n",
            "棄士士食墨叭隊把把把把把比噃噃藍豪豪豪豪豪校豪99幾校穩舞應向呑察覺急費費胃胃胃個胃個點典百造造造造廈爺爺忌忌像爺橙橙橙橙湯層層書症枯葱葱葱區區區量教令洗洗洋T爐戇戇肚贏佬番脊番預載隊盆載鬧明明明明繩磅繩磅多寒寒袋哨寒哨瘡認認認騎約約」」提計署蠱園呼球由掛藝晒淺淺眼暑奧米ggg究整養g究整摸諺民民魔米影影離掌哲組組組組設組組組湖迪抵果果活點杯杯樽AA乜乜戴歡歡为为瞓嘞嘞斷嘞斷模模高咋高投情夾王站王術\n",
            "1/1 [==============================] - 0s 21ms/step\n",
            "棄士士食墨叭隊把把把把把比噃噃藍豪豪豪豪豪校豪99幾校穩舞應向呑察覺急費費胃胃胃個胃個點典百造造造造廈爺爺忌忌像爺橙橙橙橙湯層層書症枯葱葱葱區區區量教令洗洗洋T爐戇戇肚贏佬番脊番預載隊盆載鬧明明明明繩磅繩磅多寒寒袋哨寒哨瘡認認認騎約約」」提計署蠱園呼球由掛藝晒淺淺眼暑奧米ggg究整養g究整摸諺民民魔米影影離掌哲組組組組設組組組湖迪抵果果活點杯杯樽AA乜乜戴歡歡为为瞓嘞嘞斷嘞斷模模高咋高投情夾王站王術吹\n",
            "1/1 [==============================] - 0s 23ms/step\n",
            "棄士士食墨叭隊把把把把把比噃噃藍豪豪豪豪豪校豪99幾校穩舞應向呑察覺急費費胃胃胃個胃個點典百造造造造廈爺爺忌忌像爺橙橙橙橙湯層層書症枯葱葱葱區區區量教令洗洗洋T爐戇戇肚贏佬番脊番預載隊盆載鬧明明明明繩磅繩磅多寒寒袋哨寒哨瘡認認認騎約約」」提計署蠱園呼球由掛藝晒淺淺眼暑奧米ggg究整養g究整摸諺民民魔米影影離掌哲組組組組設組組組湖迪抵果果活點杯杯樽AA乜乜戴歡歡为为瞓嘞嘞斷嘞斷模模高咋高投情夾王站王術吹片\n",
            "1/1 [==============================] - 0s 21ms/step\n",
            "棄士士食墨叭隊把把把把把比噃噃藍豪豪豪豪豪校豪99幾校穩舞應向呑察覺急費費胃胃胃個胃個點典百造造造造廈爺爺忌忌像爺橙橙橙橙湯層層書症枯葱葱葱區區區量教令洗洗洋T爐戇戇肚贏佬番脊番預載隊盆載鬧明明明明繩磅繩磅多寒寒袋哨寒哨瘡認認認騎約約」」提計署蠱園呼球由掛藝晒淺淺眼暑奧米ggg究整養g究整摸諺民民魔米影影離掌哲組組組組設組組組湖迪抵果果活點杯杯樽AA乜乜戴歡歡为为瞓嘞嘞斷嘞斷模模高咋高投情夾王站王術吹片吹\n",
            "1/1 [==============================] - 0s 21ms/step\n",
            "棄士士食墨叭隊把把把把把比噃噃藍豪豪豪豪豪校豪99幾校穩舞應向呑察覺急費費胃胃胃個胃個點典百造造造造廈爺爺忌忌像爺橙橙橙橙湯層層書症枯葱葱葱區區區量教令洗洗洋T爐戇戇肚贏佬番脊番預載隊盆載鬧明明明明繩磅繩磅多寒寒袋哨寒哨瘡認認認騎約約」」提計署蠱園呼球由掛藝晒淺淺眼暑奧米ggg究整養g究整摸諺民民魔米影影離掌哲組組組組設組組組湖迪抵果果活點杯杯樽AA乜乜戴歡歡为为瞓嘞嘞斷嘞斷模模高咋高投情夾王站王術吹片吹蹤\n",
            "1/1 [==============================] - 0s 21ms/step\n",
            "棄士士食墨叭隊把把把把把比噃噃藍豪豪豪豪豪校豪99幾校穩舞應向呑察覺急費費胃胃胃個胃個點典百造造造造廈爺爺忌忌像爺橙橙橙橙湯層層書症枯葱葱葱區區區量教令洗洗洋T爐戇戇肚贏佬番脊番預載隊盆載鬧明明明明繩磅繩磅多寒寒袋哨寒哨瘡認認認騎約約」」提計署蠱園呼球由掛藝晒淺淺眼暑奧米ggg究整養g究整摸諺民民魔米影影離掌哲組組組組設組組組湖迪抵果果活點杯杯樽AA乜乜戴歡歡为为瞓嘞嘞斷嘞斷模模高咋高投情夾王站王術吹片吹蹤背\n",
            "1/1 [==============================] - 0s 21ms/step\n",
            "棄士士食墨叭隊把把把把把比噃噃藍豪豪豪豪豪校豪99幾校穩舞應向呑察覺急費費胃胃胃個胃個點典百造造造造廈爺爺忌忌像爺橙橙橙橙湯層層書症枯葱葱葱區區區量教令洗洗洋T爐戇戇肚贏佬番脊番預載隊盆載鬧明明明明繩磅繩磅多寒寒袋哨寒哨瘡認認認騎約約」」提計署蠱園呼球由掛藝晒淺淺眼暑奧米ggg究整養g究整摸諺民民魔米影影離掌哲組組組組設組組組湖迪抵果果活點杯杯樽AA乜乜戴歡歡为为瞓嘞嘞斷嘞斷模模高咋高投情夾王站王術吹片吹蹤背廳\n",
            "1/1 [==============================] - 0s 19ms/step\n",
            "棄士士食墨叭隊把把把把把比噃噃藍豪豪豪豪豪校豪99幾校穩舞應向呑察覺急費費胃胃胃個胃個點典百造造造造廈爺爺忌忌像爺橙橙橙橙湯層層書症枯葱葱葱區區區量教令洗洗洋T爐戇戇肚贏佬番脊番預載隊盆載鬧明明明明繩磅繩磅多寒寒袋哨寒哨瘡認認認騎約約」」提計署蠱園呼球由掛藝晒淺淺眼暑奧米ggg究整養g究整摸諺民民魔米影影離掌哲組組組組設組組組湖迪抵果果活點杯杯樽AA乜乜戴歡歡为为瞓嘞嘞斷嘞斷模模高咋高投情夾王站王術吹片吹蹤背廳額\n",
            "1/1 [==============================] - 0s 23ms/step\n",
            "棄士士食墨叭隊把把把把把比噃噃藍豪豪豪豪豪校豪99幾校穩舞應向呑察覺急費費胃胃胃個胃個點典百造造造造廈爺爺忌忌像爺橙橙橙橙湯層層書症枯葱葱葱區區區量教令洗洗洋T爐戇戇肚贏佬番脊番預載隊盆載鬧明明明明繩磅繩磅多寒寒袋哨寒哨瘡認認認騎約約」」提計署蠱園呼球由掛藝晒淺淺眼暑奧米ggg究整養g究整摸諺民民魔米影影離掌哲組組組組設組組組湖迪抵果果活點杯杯樽AA乜乜戴歡歡为为瞓嘞嘞斷嘞斷模模高咋高投情夾王站王術吹片吹蹤背廳額鰥\n",
            "1/1 [==============================] - 0s 24ms/step\n",
            "棄士士食墨叭隊把把把把把比噃噃藍豪豪豪豪豪校豪99幾校穩舞應向呑察覺急費費胃胃胃個胃個點典百造造造造廈爺爺忌忌像爺橙橙橙橙湯層層書症枯葱葱葱區區區量教令洗洗洋T爐戇戇肚贏佬番脊番預載隊盆載鬧明明明明繩磅繩磅多寒寒袋哨寒哨瘡認認認騎約約」」提計署蠱園呼球由掛藝晒淺淺眼暑奧米ggg究整養g究整摸諺民民魔米影影離掌哲組組組組設組組組湖迪抵果果活點杯杯樽AA乜乜戴歡歡为为瞓嘞嘞斷嘞斷模模高咋高投情夾王站王術吹片吹蹤背廳額鰥鰥\n",
            "1/1 [==============================] - 0s 24ms/step\n",
            "棄士士食墨叭隊把把把把把比噃噃藍豪豪豪豪豪校豪99幾校穩舞應向呑察覺急費費胃胃胃個胃個點典百造造造造廈爺爺忌忌像爺橙橙橙橙湯層層書症枯葱葱葱區區區量教令洗洗洋T爐戇戇肚贏佬番脊番預載隊盆載鬧明明明明繩磅繩磅多寒寒袋哨寒哨瘡認認認騎約約」」提計署蠱園呼球由掛藝晒淺淺眼暑奧米ggg究整養g究整摸諺民民魔米影影離掌哲組組組組設組組組湖迪抵果果活點杯杯樽AA乜乜戴歡歡为为瞓嘞嘞斷嘞斷模模高咋高投情夾王站王術吹片吹蹤背廳額鰥鰥靠\n",
            "1/1 [==============================] - 0s 26ms/step\n",
            "棄士士食墨叭隊把把把把把比噃噃藍豪豪豪豪豪校豪99幾校穩舞應向呑察覺急費費胃胃胃個胃個點典百造造造造廈爺爺忌忌像爺橙橙橙橙湯層層書症枯葱葱葱區區區量教令洗洗洋T爐戇戇肚贏佬番脊番預載隊盆載鬧明明明明繩磅繩磅多寒寒袋哨寒哨瘡認認認騎約約」」提計署蠱園呼球由掛藝晒淺淺眼暑奧米ggg究整養g究整摸諺民民魔米影影離掌哲組組組組設組組組湖迪抵果果活點杯杯樽AA乜乜戴歡歡为为瞓嘞嘞斷嘞斷模模高咋高投情夾王站王術吹片吹蹤背廳額鰥鰥靠控\n",
            "1/1 [==============================] - 0s 23ms/step\n",
            "棄士士食墨叭隊把把把把把比噃噃藍豪豪豪豪豪校豪99幾校穩舞應向呑察覺急費費胃胃胃個胃個點典百造造造造廈爺爺忌忌像爺橙橙橙橙湯層層書症枯葱葱葱區區區量教令洗洗洋T爐戇戇肚贏佬番脊番預載隊盆載鬧明明明明繩磅繩磅多寒寒袋哨寒哨瘡認認認騎約約」」提計署蠱園呼球由掛藝晒淺淺眼暑奧米ggg究整養g究整摸諺民民魔米影影離掌哲組組組組設組組組湖迪抵果果活點杯杯樽AA乜乜戴歡歡为为瞓嘞嘞斷嘞斷模模高咋高投情夾王站王術吹片吹蹤背廳額鰥鰥靠控璃\n",
            "1/1 [==============================] - 0s 23ms/step\n",
            "棄士士食墨叭隊把把把把把比噃噃藍豪豪豪豪豪校豪99幾校穩舞應向呑察覺急費費胃胃胃個胃個點典百造造造造廈爺爺忌忌像爺橙橙橙橙湯層層書症枯葱葱葱區區區量教令洗洗洋T爐戇戇肚贏佬番脊番預載隊盆載鬧明明明明繩磅繩磅多寒寒袋哨寒哨瘡認認認騎約約」」提計署蠱園呼球由掛藝晒淺淺眼暑奧米ggg究整養g究整摸諺民民魔米影影離掌哲組組組組設組組組湖迪抵果果活點杯杯樽AA乜乜戴歡歡为为瞓嘞嘞斷嘞斷模模高咋高投情夾王站王術吹片吹蹤背廳額鰥鰥靠控璃環\n",
            "1/1 [==============================] - 0s 24ms/step\n",
            "棄士士食墨叭隊把把把把把比噃噃藍豪豪豪豪豪校豪99幾校穩舞應向呑察覺急費費胃胃胃個胃個點典百造造造造廈爺爺忌忌像爺橙橙橙橙湯層層書症枯葱葱葱區區區量教令洗洗洋T爐戇戇肚贏佬番脊番預載隊盆載鬧明明明明繩磅繩磅多寒寒袋哨寒哨瘡認認認騎約約」」提計署蠱園呼球由掛藝晒淺淺眼暑奧米ggg究整養g究整摸諺民民魔米影影離掌哲組組組組設組組組湖迪抵果果活點杯杯樽AA乜乜戴歡歡为为瞓嘞嘞斷嘞斷模模高咋高投情夾王站王術吹片吹蹤背廳額鰥鰥靠控璃環型\n",
            "1/1 [==============================] - 0s 23ms/step\n",
            "棄士士食墨叭隊把把把把把比噃噃藍豪豪豪豪豪校豪99幾校穩舞應向呑察覺急費費胃胃胃個胃個點典百造造造造廈爺爺忌忌像爺橙橙橙橙湯層層書症枯葱葱葱區區區量教令洗洗洋T爐戇戇肚贏佬番脊番預載隊盆載鬧明明明明繩磅繩磅多寒寒袋哨寒哨瘡認認認騎約約」」提計署蠱園呼球由掛藝晒淺淺眼暑奧米ggg究整養g究整摸諺民民魔米影影離掌哲組組組組設組組組湖迪抵果果活點杯杯樽AA乜乜戴歡歡为为瞓嘞嘞斷嘞斷模模高咋高投情夾王站王術吹片吹蹤背廳額鰥鰥靠控璃環型型\n",
            "1/1 [==============================] - 0s 23ms/step\n",
            "棄士士食墨叭隊把把把把把比噃噃藍豪豪豪豪豪校豪99幾校穩舞應向呑察覺急費費胃胃胃個胃個點典百造造造造廈爺爺忌忌像爺橙橙橙橙湯層層書症枯葱葱葱區區區量教令洗洗洋T爐戇戇肚贏佬番脊番預載隊盆載鬧明明明明繩磅繩磅多寒寒袋哨寒哨瘡認認認騎約約」」提計署蠱園呼球由掛藝晒淺淺眼暑奧米ggg究整養g究整摸諺民民魔米影影離掌哲組組組組設組組組湖迪抵果果活點杯杯樽AA乜乜戴歡歡为为瞓嘞嘞斷嘞斷模模高咋高投情夾王站王術吹片吹蹤背廳額鰥鰥靠控璃環型型連\n",
            "1/1 [==============================] - 0s 23ms/step\n",
            "棄士士食墨叭隊把把把把把比噃噃藍豪豪豪豪豪校豪99幾校穩舞應向呑察覺急費費胃胃胃個胃個點典百造造造造廈爺爺忌忌像爺橙橙橙橙湯層層書症枯葱葱葱區區區量教令洗洗洋T爐戇戇肚贏佬番脊番預載隊盆載鬧明明明明繩磅繩磅多寒寒袋哨寒哨瘡認認認騎約約」」提計署蠱園呼球由掛藝晒淺淺眼暑奧米ggg究整養g究整摸諺民民魔米影影離掌哲組組組組設組組組湖迪抵果果活點杯杯樽AA乜乜戴歡歡为为瞓嘞嘞斷嘞斷模模高咋高投情夾王站王術吹片吹蹤背廳額鰥鰥靠控璃環型型連紐\n",
            "1/1 [==============================] - 0s 26ms/step\n",
            "棄士士食墨叭隊把把把把把比噃噃藍豪豪豪豪豪校豪99幾校穩舞應向呑察覺急費費胃胃胃個胃個點典百造造造造廈爺爺忌忌像爺橙橙橙橙湯層層書症枯葱葱葱區區區量教令洗洗洋T爐戇戇肚贏佬番脊番預載隊盆載鬧明明明明繩磅繩磅多寒寒袋哨寒哨瘡認認認騎約約」」提計署蠱園呼球由掛藝晒淺淺眼暑奧米ggg究整養g究整摸諺民民魔米影影離掌哲組組組組設組組組湖迪抵果果活點杯杯樽AA乜乜戴歡歡为为瞓嘞嘞斷嘞斷模模高咋高投情夾王站王術吹片吹蹤背廳額鰥鰥靠控璃環型型連紐漢\n",
            "1/1 [==============================] - 0s 23ms/step\n",
            "棄士士食墨叭隊把把把把把比噃噃藍豪豪豪豪豪校豪99幾校穩舞應向呑察覺急費費胃胃胃個胃個點典百造造造造廈爺爺忌忌像爺橙橙橙橙湯層層書症枯葱葱葱區區區量教令洗洗洋T爐戇戇肚贏佬番脊番預載隊盆載鬧明明明明繩磅繩磅多寒寒袋哨寒哨瘡認認認騎約約」」提計署蠱園呼球由掛藝晒淺淺眼暑奧米ggg究整養g究整摸諺民民魔米影影離掌哲組組組組設組組組湖迪抵果果活點杯杯樽AA乜乜戴歡歡为为瞓嘞嘞斷嘞斷模模高咋高投情夾王站王術吹片吹蹤背廳額鰥鰥靠控璃環型型連紐漢春\n",
            "1/1 [==============================] - 0s 23ms/step\n",
            "棄士士食墨叭隊把把把把把比噃噃藍豪豪豪豪豪校豪99幾校穩舞應向呑察覺急費費胃胃胃個胃個點典百造造造造廈爺爺忌忌像爺橙橙橙橙湯層層書症枯葱葱葱區區區量教令洗洗洋T爐戇戇肚贏佬番脊番預載隊盆載鬧明明明明繩磅繩磅多寒寒袋哨寒哨瘡認認認騎約約」」提計署蠱園呼球由掛藝晒淺淺眼暑奧米ggg究整養g究整摸諺民民魔米影影離掌哲組組組組設組組組湖迪抵果果活點杯杯樽AA乜乜戴歡歡为为瞓嘞嘞斷嘞斷模模高咋高投情夾王站王術吹片吹蹤背廳額鰥鰥靠控璃環型型連紐漢春便\n",
            "1/1 [==============================] - 0s 31ms/step\n",
            "棄士士食墨叭隊把把把把把比噃噃藍豪豪豪豪豪校豪99幾校穩舞應向呑察覺急費費胃胃胃個胃個點典百造造造造廈爺爺忌忌像爺橙橙橙橙湯層層書症枯葱葱葱區區區量教令洗洗洋T爐戇戇肚贏佬番脊番預載隊盆載鬧明明明明繩磅繩磅多寒寒袋哨寒哨瘡認認認騎約約」」提計署蠱園呼球由掛藝晒淺淺眼暑奧米ggg究整養g究整摸諺民民魔米影影離掌哲組組組組設組組組湖迪抵果果活點杯杯樽AA乜乜戴歡歡为为瞓嘞嘞斷嘞斷模模高咋高投情夾王站王術吹片吹蹤背廳額鰥鰥靠控璃環型型連紐漢春便諸\n",
            "1/1 [==============================] - 0s 23ms/step\n",
            "棄士士食墨叭隊把把把把把比噃噃藍豪豪豪豪豪校豪99幾校穩舞應向呑察覺急費費胃胃胃個胃個點典百造造造造廈爺爺忌忌像爺橙橙橙橙湯層層書症枯葱葱葱區區區量教令洗洗洋T爐戇戇肚贏佬番脊番預載隊盆載鬧明明明明繩磅繩磅多寒寒袋哨寒哨瘡認認認騎約約」」提計署蠱園呼球由掛藝晒淺淺眼暑奧米ggg究整養g究整摸諺民民魔米影影離掌哲組組組組設組組組湖迪抵果果活點杯杯樽AA乜乜戴歡歡为为瞓嘞嘞斷嘞斷模模高咋高投情夾王站王術吹片吹蹤背廳額鰥鰥靠控璃環型型連紐漢春便諸病\n",
            "1/1 [==============================] - 0s 23ms/step\n",
            "棄士士食墨叭隊把把把把把比噃噃藍豪豪豪豪豪校豪99幾校穩舞應向呑察覺急費費胃胃胃個胃個點典百造造造造廈爺爺忌忌像爺橙橙橙橙湯層層書症枯葱葱葱區區區量教令洗洗洋T爐戇戇肚贏佬番脊番預載隊盆載鬧明明明明繩磅繩磅多寒寒袋哨寒哨瘡認認認騎約約」」提計署蠱園呼球由掛藝晒淺淺眼暑奧米ggg究整養g究整摸諺民民魔米影影離掌哲組組組組設組組組湖迪抵果果活點杯杯樽AA乜乜戴歡歡为为瞓嘞嘞斷嘞斷模模高咋高投情夾王站王術吹片吹蹤背廳額鰥鰥靠控璃環型型連紐漢春便諸病字\n",
            "1/1 [==============================] - 0s 29ms/step\n",
            "棄士士食墨叭隊把把把把把比噃噃藍豪豪豪豪豪校豪99幾校穩舞應向呑察覺急費費胃胃胃個胃個點典百造造造造廈爺爺忌忌像爺橙橙橙橙湯層層書症枯葱葱葱區區區量教令洗洗洋T爐戇戇肚贏佬番脊番預載隊盆載鬧明明明明繩磅繩磅多寒寒袋哨寒哨瘡認認認騎約約」」提計署蠱園呼球由掛藝晒淺淺眼暑奧米ggg究整養g究整摸諺民民魔米影影離掌哲組組組組設組組組湖迪抵果果活點杯杯樽AA乜乜戴歡歡为为瞓嘞嘞斷嘞斷模模高咋高投情夾王站王術吹片吹蹤背廳額鰥鰥靠控璃環型型連紐漢春便諸病字除\n",
            "1/1 [==============================] - 0s 23ms/step\n",
            "棄士士食墨叭隊把把把把把比噃噃藍豪豪豪豪豪校豪99幾校穩舞應向呑察覺急費費胃胃胃個胃個點典百造造造造廈爺爺忌忌像爺橙橙橙橙湯層層書症枯葱葱葱區區區量教令洗洗洋T爐戇戇肚贏佬番脊番預載隊盆載鬧明明明明繩磅繩磅多寒寒袋哨寒哨瘡認認認騎約約」」提計署蠱園呼球由掛藝晒淺淺眼暑奧米ggg究整養g究整摸諺民民魔米影影離掌哲組組組組設組組組湖迪抵果果活點杯杯樽AA乜乜戴歡歡为为瞓嘞嘞斷嘞斷模模高咋高投情夾王站王術吹片吹蹤背廳額鰥鰥靠控璃環型型連紐漢春便諸病字除着\n",
            "1/1 [==============================] - 0s 26ms/step\n",
            "棄士士食墨叭隊把把把把把比噃噃藍豪豪豪豪豪校豪99幾校穩舞應向呑察覺急費費胃胃胃個胃個點典百造造造造廈爺爺忌忌像爺橙橙橙橙湯層層書症枯葱葱葱區區區量教令洗洗洋T爐戇戇肚贏佬番脊番預載隊盆載鬧明明明明繩磅繩磅多寒寒袋哨寒哨瘡認認認騎約約」」提計署蠱園呼球由掛藝晒淺淺眼暑奧米ggg究整養g究整摸諺民民魔米影影離掌哲組組組組設組組組湖迪抵果果活點杯杯樽AA乜乜戴歡歡为为瞓嘞嘞斷嘞斷模模高咋高投情夾王站王術吹片吹蹤背廳額鰥鰥靠控璃環型型連紐漢春便諸病字除着着\n",
            "1/1 [==============================] - 0s 23ms/step\n",
            "棄士士食墨叭隊把把把把把比噃噃藍豪豪豪豪豪校豪99幾校穩舞應向呑察覺急費費胃胃胃個胃個點典百造造造造廈爺爺忌忌像爺橙橙橙橙湯層層書症枯葱葱葱區區區量教令洗洗洋T爐戇戇肚贏佬番脊番預載隊盆載鬧明明明明繩磅繩磅多寒寒袋哨寒哨瘡認認認騎約約」」提計署蠱園呼球由掛藝晒淺淺眼暑奧米ggg究整養g究整摸諺民民魔米影影離掌哲組組組組設組組組湖迪抵果果活點杯杯樽AA乜乜戴歡歡为为瞓嘞嘞斷嘞斷模模高咋高投情夾王站王術吹片吹蹤背廳額鰥鰥靠控璃環型型連紐漢春便諸病字除着着着\n",
            "1/1 [==============================] - 0s 30ms/step\n",
            "棄士士食墨叭隊把把把把把比噃噃藍豪豪豪豪豪校豪99幾校穩舞應向呑察覺急費費胃胃胃個胃個點典百造造造造廈爺爺忌忌像爺橙橙橙橙湯層層書症枯葱葱葱區區區量教令洗洗洋T爐戇戇肚贏佬番脊番預載隊盆載鬧明明明明繩磅繩磅多寒寒袋哨寒哨瘡認認認騎約約」」提計署蠱園呼球由掛藝晒淺淺眼暑奧米ggg究整養g究整摸諺民民魔米影影離掌哲組組組組設組組組湖迪抵果果活點杯杯樽AA乜乜戴歡歡为为瞓嘞嘞斷嘞斷模模高咋高投情夾王站王術吹片吹蹤背廳額鰥鰥靠控璃環型型連紐漢春便諸病字除着着着嘥\n",
            "1/1 [==============================] - 0s 23ms/step\n",
            "棄士士食墨叭隊把把把把把比噃噃藍豪豪豪豪豪校豪99幾校穩舞應向呑察覺急費費胃胃胃個胃個點典百造造造造廈爺爺忌忌像爺橙橙橙橙湯層層書症枯葱葱葱區區區量教令洗洗洋T爐戇戇肚贏佬番脊番預載隊盆載鬧明明明明繩磅繩磅多寒寒袋哨寒哨瘡認認認騎約約」」提計署蠱園呼球由掛藝晒淺淺眼暑奧米ggg究整養g究整摸諺民民魔米影影離掌哲組組組組設組組組湖迪抵果果活點杯杯樽AA乜乜戴歡歡为为瞓嘞嘞斷嘞斷模模高咋高投情夾王站王術吹片吹蹤背廳額鰥鰥靠控璃環型型連紐漢春便諸病字除着着着嘥着\n",
            "1/1 [==============================] - 0s 23ms/step\n",
            "棄士士食墨叭隊把把把把把比噃噃藍豪豪豪豪豪校豪99幾校穩舞應向呑察覺急費費胃胃胃個胃個點典百造造造造廈爺爺忌忌像爺橙橙橙橙湯層層書症枯葱葱葱區區區量教令洗洗洋T爐戇戇肚贏佬番脊番預載隊盆載鬧明明明明繩磅繩磅多寒寒袋哨寒哨瘡認認認騎約約」」提計署蠱園呼球由掛藝晒淺淺眼暑奧米ggg究整養g究整摸諺民民魔米影影離掌哲組組組組設組組組湖迪抵果果活點杯杯樽AA乜乜戴歡歡为为瞓嘞嘞斷嘞斷模模高咋高投情夾王站王術吹片吹蹤背廳額鰥鰥靠控璃環型型連紐漢春便諸病字除着着着嘥着潔\n",
            "1/1 [==============================] - 0s 32ms/step\n",
            "棄士士食墨叭隊把把把把把比噃噃藍豪豪豪豪豪校豪99幾校穩舞應向呑察覺急費費胃胃胃個胃個點典百造造造造廈爺爺忌忌像爺橙橙橙橙湯層層書症枯葱葱葱區區區量教令洗洗洋T爐戇戇肚贏佬番脊番預載隊盆載鬧明明明明繩磅繩磅多寒寒袋哨寒哨瘡認認認騎約約」」提計署蠱園呼球由掛藝晒淺淺眼暑奧米ggg究整養g究整摸諺民民魔米影影離掌哲組組組組設組組組湖迪抵果果活點杯杯樽AA乜乜戴歡歡为为瞓嘞嘞斷嘞斷模模高咋高投情夾王站王術吹片吹蹤背廳額鰥鰥靠控璃環型型連紐漢春便諸病字除着着着嘥着潔喜\n",
            "1/1 [==============================] - 0s 23ms/step\n",
            "棄士士食墨叭隊把把把把把比噃噃藍豪豪豪豪豪校豪99幾校穩舞應向呑察覺急費費胃胃胃個胃個點典百造造造造廈爺爺忌忌像爺橙橙橙橙湯層層書症枯葱葱葱區區區量教令洗洗洋T爐戇戇肚贏佬番脊番預載隊盆載鬧明明明明繩磅繩磅多寒寒袋哨寒哨瘡認認認騎約約」」提計署蠱園呼球由掛藝晒淺淺眼暑奧米ggg究整養g究整摸諺民民魔米影影離掌哲組組組組設組組組湖迪抵果果活點杯杯樽AA乜乜戴歡歡为为瞓嘞嘞斷嘞斷模模高咋高投情夾王站王術吹片吹蹤背廳額鰥鰥靠控璃環型型連紐漢春便諸病字除着着着嘥着潔喜荷\n",
            "1/1 [==============================] - 0s 23ms/step\n",
            "棄士士食墨叭隊把把把把把比噃噃藍豪豪豪豪豪校豪99幾校穩舞應向呑察覺急費費胃胃胃個胃個點典百造造造造廈爺爺忌忌像爺橙橙橙橙湯層層書症枯葱葱葱區區區量教令洗洗洋T爐戇戇肚贏佬番脊番預載隊盆載鬧明明明明繩磅繩磅多寒寒袋哨寒哨瘡認認認騎約約」」提計署蠱園呼球由掛藝晒淺淺眼暑奧米ggg究整養g究整摸諺民民魔米影影離掌哲組組組組設組組組湖迪抵果果活點杯杯樽AA乜乜戴歡歡为为瞓嘞嘞斷嘞斷模模高咋高投情夾王站王術吹片吹蹤背廳額鰥鰥靠控璃環型型連紐漢春便諸病字除着着着嘥着潔喜荷攻\n",
            "1/1 [==============================] - 0s 23ms/step\n",
            "棄士士食墨叭隊把把把把把比噃噃藍豪豪豪豪豪校豪99幾校穩舞應向呑察覺急費費胃胃胃個胃個點典百造造造造廈爺爺忌忌像爺橙橙橙橙湯層層書症枯葱葱葱區區區量教令洗洗洋T爐戇戇肚贏佬番脊番預載隊盆載鬧明明明明繩磅繩磅多寒寒袋哨寒哨瘡認認認騎約約」」提計署蠱園呼球由掛藝晒淺淺眼暑奧米ggg究整養g究整摸諺民民魔米影影離掌哲組組組組設組組組湖迪抵果果活點杯杯樽AA乜乜戴歡歡为为瞓嘞嘞斷嘞斷模模高咋高投情夾王站王術吹片吹蹤背廳額鰥鰥靠控璃環型型連紐漢春便諸病字除着着着嘥着潔喜荷攻爾\n",
            "1/1 [==============================] - 0s 20ms/step\n",
            "棄士士食墨叭隊把把把把把比噃噃藍豪豪豪豪豪校豪99幾校穩舞應向呑察覺急費費胃胃胃個胃個點典百造造造造廈爺爺忌忌像爺橙橙橙橙湯層層書症枯葱葱葱區區區量教令洗洗洋T爐戇戇肚贏佬番脊番預載隊盆載鬧明明明明繩磅繩磅多寒寒袋哨寒哨瘡認認認騎約約」」提計署蠱園呼球由掛藝晒淺淺眼暑奧米ggg究整養g究整摸諺民民魔米影影離掌哲組組組組設組組組湖迪抵果果活點杯杯樽AA乜乜戴歡歡为为瞓嘞嘞斷嘞斷模模高咋高投情夾王站王術吹片吹蹤背廳額鰥鰥靠控璃環型型連紐漢春便諸病字除着着着嘥着潔喜荷攻爾爾\n",
            "1/1 [==============================] - 0s 20ms/step\n",
            "棄士士食墨叭隊把把把把把比噃噃藍豪豪豪豪豪校豪99幾校穩舞應向呑察覺急費費胃胃胃個胃個點典百造造造造廈爺爺忌忌像爺橙橙橙橙湯層層書症枯葱葱葱區區區量教令洗洗洋T爐戇戇肚贏佬番脊番預載隊盆載鬧明明明明繩磅繩磅多寒寒袋哨寒哨瘡認認認騎約約」」提計署蠱園呼球由掛藝晒淺淺眼暑奧米ggg究整養g究整摸諺民民魔米影影離掌哲組組組組設組組組湖迪抵果果活點杯杯樽AA乜乜戴歡歡为为瞓嘞嘞斷嘞斷模模高咋高投情夾王站王術吹片吹蹤背廳額鰥鰥靠控璃環型型連紐漢春便諸病字除着着着嘥着潔喜荷攻爾爾角\n",
            "1/1 [==============================] - 0s 21ms/step\n",
            "棄士士食墨叭隊把把把把把比噃噃藍豪豪豪豪豪校豪99幾校穩舞應向呑察覺急費費胃胃胃個胃個點典百造造造造廈爺爺忌忌像爺橙橙橙橙湯層層書症枯葱葱葱區區區量教令洗洗洋T爐戇戇肚贏佬番脊番預載隊盆載鬧明明明明繩磅繩磅多寒寒袋哨寒哨瘡認認認騎約約」」提計署蠱園呼球由掛藝晒淺淺眼暑奧米ggg究整養g究整摸諺民民魔米影影離掌哲組組組組設組組組湖迪抵果果活點杯杯樽AA乜乜戴歡歡为为瞓嘞嘞斷嘞斷模模高咋高投情夾王站王術吹片吹蹤背廳額鰥鰥靠控璃環型型連紐漢春便諸病字除着着着嘥着潔喜荷攻爾爾角料\n",
            "1/1 [==============================] - 0s 27ms/step\n",
            "棄士士食墨叭隊把把把把把比噃噃藍豪豪豪豪豪校豪99幾校穩舞應向呑察覺急費費胃胃胃個胃個點典百造造造造廈爺爺忌忌像爺橙橙橙橙湯層層書症枯葱葱葱區區區量教令洗洗洋T爐戇戇肚贏佬番脊番預載隊盆載鬧明明明明繩磅繩磅多寒寒袋哨寒哨瘡認認認騎約約」」提計署蠱園呼球由掛藝晒淺淺眼暑奧米ggg究整養g究整摸諺民民魔米影影離掌哲組組組組設組組組湖迪抵果果活點杯杯樽AA乜乜戴歡歡为为瞓嘞嘞斷嘞斷模模高咋高投情夾王站王術吹片吹蹤背廳額鰥鰥靠控璃環型型連紐漢春便諸病字除着着着嘥着潔喜荷攻爾爾角料島\n",
            "1/1 [==============================] - 0s 20ms/step\n",
            "棄士士食墨叭隊把把把把把比噃噃藍豪豪豪豪豪校豪99幾校穩舞應向呑察覺急費費胃胃胃個胃個點典百造造造造廈爺爺忌忌像爺橙橙橙橙湯層層書症枯葱葱葱區區區量教令洗洗洋T爐戇戇肚贏佬番脊番預載隊盆載鬧明明明明繩磅繩磅多寒寒袋哨寒哨瘡認認認騎約約」」提計署蠱園呼球由掛藝晒淺淺眼暑奧米ggg究整養g究整摸諺民民魔米影影離掌哲組組組組設組組組湖迪抵果果活點杯杯樽AA乜乜戴歡歡为为瞓嘞嘞斷嘞斷模模高咋高投情夾王站王術吹片吹蹤背廳額鰥鰥靠控璃環型型連紐漢春便諸病字除着着着嘥着潔喜荷攻爾爾角料島燶\n",
            "1/1 [==============================] - 0s 20ms/step\n",
            "棄士士食墨叭隊把把把把把比噃噃藍豪豪豪豪豪校豪99幾校穩舞應向呑察覺急費費胃胃胃個胃個點典百造造造造廈爺爺忌忌像爺橙橙橙橙湯層層書症枯葱葱葱區區區量教令洗洗洋T爐戇戇肚贏佬番脊番預載隊盆載鬧明明明明繩磅繩磅多寒寒袋哨寒哨瘡認認認騎約約」」提計署蠱園呼球由掛藝晒淺淺眼暑奧米ggg究整養g究整摸諺民民魔米影影離掌哲組組組組設組組組湖迪抵果果活點杯杯樽AA乜乜戴歡歡为为瞓嘞嘞斷嘞斷模模高咋高投情夾王站王術吹片吹蹤背廳額鰥鰥靠控璃環型型連紐漢春便諸病字除着着着嘥着潔喜荷攻爾爾角料島燶上\n",
            "1/1 [==============================] - 0s 21ms/step\n",
            "棄士士食墨叭隊把把把把把比噃噃藍豪豪豪豪豪校豪99幾校穩舞應向呑察覺急費費胃胃胃個胃個點典百造造造造廈爺爺忌忌像爺橙橙橙橙湯層層書症枯葱葱葱區區區量教令洗洗洋T爐戇戇肚贏佬番脊番預載隊盆載鬧明明明明繩磅繩磅多寒寒袋哨寒哨瘡認認認騎約約」」提計署蠱園呼球由掛藝晒淺淺眼暑奧米ggg究整養g究整摸諺民民魔米影影離掌哲組組組組設組組組湖迪抵果果活點杯杯樽AA乜乜戴歡歡为为瞓嘞嘞斷嘞斷模模高咋高投情夾王站王術吹片吹蹤背廳額鰥鰥靠控璃環型型連紐漢春便諸病字除着着着嘥着潔喜荷攻爾爾角料島燶上局\n",
            "1/1 [==============================] - 0s 21ms/step\n",
            "棄士士食墨叭隊把把把把把比噃噃藍豪豪豪豪豪校豪99幾校穩舞應向呑察覺急費費胃胃胃個胃個點典百造造造造廈爺爺忌忌像爺橙橙橙橙湯層層書症枯葱葱葱區區區量教令洗洗洋T爐戇戇肚贏佬番脊番預載隊盆載鬧明明明明繩磅繩磅多寒寒袋哨寒哨瘡認認認騎約約」」提計署蠱園呼球由掛藝晒淺淺眼暑奧米ggg究整養g究整摸諺民民魔米影影離掌哲組組組組設組組組湖迪抵果果活點杯杯樽AA乜乜戴歡歡为为瞓嘞嘞斷嘞斷模模高咋高投情夾王站王術吹片吹蹤背廳額鰥鰥靠控璃環型型連紐漢春便諸病字除着着着嘥着潔喜荷攻爾爾角料島燶上局i\n",
            "1/1 [==============================] - 0s 27ms/step\n",
            "棄士士食墨叭隊把把把把把比噃噃藍豪豪豪豪豪校豪99幾校穩舞應向呑察覺急費費胃胃胃個胃個點典百造造造造廈爺爺忌忌像爺橙橙橙橙湯層層書症枯葱葱葱區區區量教令洗洗洋T爐戇戇肚贏佬番脊番預載隊盆載鬧明明明明繩磅繩磅多寒寒袋哨寒哨瘡認認認騎約約」」提計署蠱園呼球由掛藝晒淺淺眼暑奧米ggg究整養g究整摸諺民民魔米影影離掌哲組組組組設組組組湖迪抵果果活點杯杯樽AA乜乜戴歡歡为为瞓嘞嘞斷嘞斷模模高咋高投情夾王站王術吹片吹蹤背廳額鰥鰥靠控璃環型型連紐漢春便諸病字除着着着嘥着潔喜荷攻爾爾角料島燶上局i監\n",
            "1/1 [==============================] - 0s 25ms/step\n",
            "棄士士食墨叭隊把把把把把比噃噃藍豪豪豪豪豪校豪99幾校穩舞應向呑察覺急費費胃胃胃個胃個點典百造造造造廈爺爺忌忌像爺橙橙橙橙湯層層書症枯葱葱葱區區區量教令洗洗洋T爐戇戇肚贏佬番脊番預載隊盆載鬧明明明明繩磅繩磅多寒寒袋哨寒哨瘡認認認騎約約」」提計署蠱園呼球由掛藝晒淺淺眼暑奧米ggg究整養g究整摸諺民民魔米影影離掌哲組組組組設組組組湖迪抵果果活點杯杯樽AA乜乜戴歡歡为为瞓嘞嘞斷嘞斷模模高咋高投情夾王站王術吹片吹蹤背廳額鰥鰥靠控璃環型型連紐漢春便諸病字除着着着嘥着潔喜荷攻爾爾角料島燶上局i監碎\n",
            "1/1 [==============================] - 0s 29ms/step\n",
            "棄士士食墨叭隊把把把把把比噃噃藍豪豪豪豪豪校豪99幾校穩舞應向呑察覺急費費胃胃胃個胃個點典百造造造造廈爺爺忌忌像爺橙橙橙橙湯層層書症枯葱葱葱區區區量教令洗洗洋T爐戇戇肚贏佬番脊番預載隊盆載鬧明明明明繩磅繩磅多寒寒袋哨寒哨瘡認認認騎約約」」提計署蠱園呼球由掛藝晒淺淺眼暑奧米ggg究整養g究整摸諺民民魔米影影離掌哲組組組組設組組組湖迪抵果果活點杯杯樽AA乜乜戴歡歡为为瞓嘞嘞斷嘞斷模模高咋高投情夾王站王術吹片吹蹤背廳額鰥鰥靠控璃環型型連紐漢春便諸病字除着着着嘥着潔喜荷攻爾爾角料島燶上局i監碎湖\n",
            "1/1 [==============================] - 0s 26ms/step\n",
            "棄士士食墨叭隊把把把把把比噃噃藍豪豪豪豪豪校豪99幾校穩舞應向呑察覺急費費胃胃胃個胃個點典百造造造造廈爺爺忌忌像爺橙橙橙橙湯層層書症枯葱葱葱區區區量教令洗洗洋T爐戇戇肚贏佬番脊番預載隊盆載鬧明明明明繩磅繩磅多寒寒袋哨寒哨瘡認認認騎約約」」提計署蠱園呼球由掛藝晒淺淺眼暑奧米ggg究整養g究整摸諺民民魔米影影離掌哲組組組組設組組組湖迪抵果果活點杯杯樽AA乜乜戴歡歡为为瞓嘞嘞斷嘞斷模模高咋高投情夾王站王術吹片吹蹤背廳額鰥鰥靠控璃環型型連紐漢春便諸病字除着着着嘥着潔喜荷攻爾爾角料島燶上局i監碎湖咯\n",
            "1/1 [==============================] - 0s 25ms/step\n",
            "棄士士食墨叭隊把把把把把比噃噃藍豪豪豪豪豪校豪99幾校穩舞應向呑察覺急費費胃胃胃個胃個點典百造造造造廈爺爺忌忌像爺橙橙橙橙湯層層書症枯葱葱葱區區區量教令洗洗洋T爐戇戇肚贏佬番脊番預載隊盆載鬧明明明明繩磅繩磅多寒寒袋哨寒哨瘡認認認騎約約」」提計署蠱園呼球由掛藝晒淺淺眼暑奧米ggg究整養g究整摸諺民民魔米影影離掌哲組組組組設組組組湖迪抵果果活點杯杯樽AA乜乜戴歡歡为为瞓嘞嘞斷嘞斷模模高咋高投情夾王站王術吹片吹蹤背廳額鰥鰥靠控璃環型型連紐漢春便諸病字除着着着嘥着潔喜荷攻爾爾角料島燶上局i監碎湖咯行\n",
            "1/1 [==============================] - 0s 25ms/step\n",
            "棄士士食墨叭隊把把把把把比噃噃藍豪豪豪豪豪校豪99幾校穩舞應向呑察覺急費費胃胃胃個胃個點典百造造造造廈爺爺忌忌像爺橙橙橙橙湯層層書症枯葱葱葱區區區量教令洗洗洋T爐戇戇肚贏佬番脊番預載隊盆載鬧明明明明繩磅繩磅多寒寒袋哨寒哨瘡認認認騎約約」」提計署蠱園呼球由掛藝晒淺淺眼暑奧米ggg究整養g究整摸諺民民魔米影影離掌哲組組組組設組組組湖迪抵果果活點杯杯樽AA乜乜戴歡歡为为瞓嘞嘞斷嘞斷模模高咋高投情夾王站王術吹片吹蹤背廳額鰥鰥靠控璃環型型連紐漢春便諸病字除着着着嘥着潔喜荷攻爾爾角料島燶上局i監碎湖咯行鋼\n",
            "1/1 [==============================] - 0s 23ms/step\n",
            "棄士士食墨叭隊把把把把把比噃噃藍豪豪豪豪豪校豪99幾校穩舞應向呑察覺急費費胃胃胃個胃個點典百造造造造廈爺爺忌忌像爺橙橙橙橙湯層層書症枯葱葱葱區區區量教令洗洗洋T爐戇戇肚贏佬番脊番預載隊盆載鬧明明明明繩磅繩磅多寒寒袋哨寒哨瘡認認認騎約約」」提計署蠱園呼球由掛藝晒淺淺眼暑奧米ggg究整養g究整摸諺民民魔米影影離掌哲組組組組設組組組湖迪抵果果活點杯杯樽AA乜乜戴歡歡为为瞓嘞嘞斷嘞斷模模高咋高投情夾王站王術吹片吹蹤背廳額鰥鰥靠控璃環型型連紐漢春便諸病字除着着着嘥着潔喜荷攻爾爾角料島燶上局i監碎湖咯行鋼噏\n",
            "1/1 [==============================] - 0s 24ms/step\n",
            "棄士士食墨叭隊把把把把把比噃噃藍豪豪豪豪豪校豪99幾校穩舞應向呑察覺急費費胃胃胃個胃個點典百造造造造廈爺爺忌忌像爺橙橙橙橙湯層層書症枯葱葱葱區區區量教令洗洗洋T爐戇戇肚贏佬番脊番預載隊盆載鬧明明明明繩磅繩磅多寒寒袋哨寒哨瘡認認認騎約約」」提計署蠱園呼球由掛藝晒淺淺眼暑奧米ggg究整養g究整摸諺民民魔米影影離掌哲組組組組設組組組湖迪抵果果活點杯杯樽AA乜乜戴歡歡为为瞓嘞嘞斷嘞斷模模高咋高投情夾王站王術吹片吹蹤背廳額鰥鰥靠控璃環型型連紐漢春便諸病字除着着着嘥着潔喜荷攻爾爾角料島燶上局i監碎湖咯行鋼噏河\n",
            "1/1 [==============================] - 0s 23ms/step\n",
            "棄士士食墨叭隊把把把把把比噃噃藍豪豪豪豪豪校豪99幾校穩舞應向呑察覺急費費胃胃胃個胃個點典百造造造造廈爺爺忌忌像爺橙橙橙橙湯層層書症枯葱葱葱區區區量教令洗洗洋T爐戇戇肚贏佬番脊番預載隊盆載鬧明明明明繩磅繩磅多寒寒袋哨寒哨瘡認認認騎約約」」提計署蠱園呼球由掛藝晒淺淺眼暑奧米ggg究整養g究整摸諺民民魔米影影離掌哲組組組組設組組組湖迪抵果果活點杯杯樽AA乜乜戴歡歡为为瞓嘞嘞斷嘞斷模模高咋高投情夾王站王術吹片吹蹤背廳額鰥鰥靠控璃環型型連紐漢春便諸病字除着着着嘥着潔喜荷攻爾爾角料島燶上局i監碎湖咯行鋼噏河美\n",
            "1/1 [==============================] - 0s 23ms/step\n",
            "棄士士食墨叭隊把把把把把比噃噃藍豪豪豪豪豪校豪99幾校穩舞應向呑察覺急費費胃胃胃個胃個點典百造造造造廈爺爺忌忌像爺橙橙橙橙湯層層書症枯葱葱葱區區區量教令洗洗洋T爐戇戇肚贏佬番脊番預載隊盆載鬧明明明明繩磅繩磅多寒寒袋哨寒哨瘡認認認騎約約」」提計署蠱園呼球由掛藝晒淺淺眼暑奧米ggg究整養g究整摸諺民民魔米影影離掌哲組組組組設組組組湖迪抵果果活點杯杯樽AA乜乜戴歡歡为为瞓嘞嘞斷嘞斷模模高咋高投情夾王站王術吹片吹蹤背廳額鰥鰥靠控璃環型型連紐漢春便諸病字除着着着嘥着潔喜荷攻爾爾角料島燶上局i監碎湖咯行鋼噏河美錫\n",
            "1/1 [==============================] - 0s 27ms/step\n",
            "棄士士食墨叭隊把把把把把比噃噃藍豪豪豪豪豪校豪99幾校穩舞應向呑察覺急費費胃胃胃個胃個點典百造造造造廈爺爺忌忌像爺橙橙橙橙湯層層書症枯葱葱葱區區區量教令洗洗洋T爐戇戇肚贏佬番脊番預載隊盆載鬧明明明明繩磅繩磅多寒寒袋哨寒哨瘡認認認騎約約」」提計署蠱園呼球由掛藝晒淺淺眼暑奧米ggg究整養g究整摸諺民民魔米影影離掌哲組組組組設組組組湖迪抵果果活點杯杯樽AA乜乜戴歡歡为为瞓嘞嘞斷嘞斷模模高咋高投情夾王站王術吹片吹蹤背廳額鰥鰥靠控璃環型型連紐漢春便諸病字除着着着嘥着潔喜荷攻爾爾角料島燶上局i監碎湖咯行鋼噏河美錫鏡\n",
            "1/1 [==============================] - 0s 23ms/step\n",
            "棄士士食墨叭隊把把把把把比噃噃藍豪豪豪豪豪校豪99幾校穩舞應向呑察覺急費費胃胃胃個胃個點典百造造造造廈爺爺忌忌像爺橙橙橙橙湯層層書症枯葱葱葱區區區量教令洗洗洋T爐戇戇肚贏佬番脊番預載隊盆載鬧明明明明繩磅繩磅多寒寒袋哨寒哨瘡認認認騎約約」」提計署蠱園呼球由掛藝晒淺淺眼暑奧米ggg究整養g究整摸諺民民魔米影影離掌哲組組組組設組組組湖迪抵果果活點杯杯樽AA乜乜戴歡歡为为瞓嘞嘞斷嘞斷模模高咋高投情夾王站王術吹片吹蹤背廳額鰥鰥靠控璃環型型連紐漢春便諸病字除着着着嘥着潔喜荷攻爾爾角料島燶上局i監碎湖咯行鋼噏河美錫鏡承\n",
            "1/1 [==============================] - 0s 23ms/step\n",
            "棄士士食墨叭隊把把把把把比噃噃藍豪豪豪豪豪校豪99幾校穩舞應向呑察覺急費費胃胃胃個胃個點典百造造造造廈爺爺忌忌像爺橙橙橙橙湯層層書症枯葱葱葱區區區量教令洗洗洋T爐戇戇肚贏佬番脊番預載隊盆載鬧明明明明繩磅繩磅多寒寒袋哨寒哨瘡認認認騎約約」」提計署蠱園呼球由掛藝晒淺淺眼暑奧米ggg究整養g究整摸諺民民魔米影影離掌哲組組組組設組組組湖迪抵果果活點杯杯樽AA乜乜戴歡歡为为瞓嘞嘞斷嘞斷模模高咋高投情夾王站王術吹片吹蹤背廳額鰥鰥靠控璃環型型連紐漢春便諸病字除着着着嘥着潔喜荷攻爾爾角料島燶上局i監碎湖咯行鋼噏河美錫鏡承伸\n",
            "1/1 [==============================] - ETA: 0s"
          ]
        },
        {
          "output_type": "error",
          "ename": "KeyboardInterrupt",
          "evalue": "ignored",
          "traceback": [
            "\u001b[0;31m---------------------------------------------------------------------------\u001b[0m",
            "\u001b[0;31mKeyboardInterrupt\u001b[0m                         Traceback (most recent call last)",
            "\u001b[0;32m<ipython-input-29-ee3963767bbd>\u001b[0m in \u001b[0;36m<module>\u001b[0;34m\u001b[0m\n\u001b[1;32m      9\u001b[0m \u001b[0;34m\u001b[0m\u001b[0m\n\u001b[1;32m     10\u001b[0m \u001b[0;32mwhile\u001b[0m \u001b[0manswer\u001b[0m \u001b[0;34m!=\u001b[0m \u001b[0;36m5\u001b[0m\u001b[0;34m:\u001b[0m\u001b[0;34m\u001b[0m\u001b[0;34m\u001b[0m\u001b[0m\n\u001b[0;32m---> 11\u001b[0;31m   \u001b[0moutput_token\u001b[0m\u001b[0;34m,\u001b[0m \u001b[0mh\u001b[0m\u001b[0;34m,\u001b[0m \u001b[0mc\u001b[0m \u001b[0;34m=\u001b[0m \u001b[0mdecoder_output\u001b[0m\u001b[0;34m.\u001b[0m\u001b[0mpredict\u001b[0m\u001b[0;34m(\u001b[0m\u001b[0;34m[\u001b[0m\u001b[0mone_hot_output\u001b[0m\u001b[0;34m]\u001b[0m \u001b[0;34m+\u001b[0m \u001b[0mdecoder_input_states\u001b[0m\u001b[0;34m)\u001b[0m\u001b[0;34m\u001b[0m\u001b[0;34m\u001b[0m\u001b[0m\n\u001b[0m\u001b[1;32m     12\u001b[0m   \u001b[0mdecoder_input_states\u001b[0m \u001b[0;34m=\u001b[0m \u001b[0;34m[\u001b[0m\u001b[0mh\u001b[0m\u001b[0;34m,\u001b[0m\u001b[0mc\u001b[0m\u001b[0;34m]\u001b[0m\u001b[0;34m\u001b[0m\u001b[0;34m\u001b[0m\u001b[0m\n\u001b[1;32m     13\u001b[0m   \u001b[0manswer\u001b[0m \u001b[0;34m=\u001b[0m \u001b[0mnp\u001b[0m\u001b[0;34m.\u001b[0m\u001b[0margmax\u001b[0m\u001b[0;34m(\u001b[0m\u001b[0moutput_token\u001b[0m\u001b[0;34m)\u001b[0m\u001b[0;34m\u001b[0m\u001b[0;34m\u001b[0m\u001b[0m\n",
            "\u001b[0;32m/usr/local/lib/python3.7/dist-packages/keras/utils/traceback_utils.py\u001b[0m in \u001b[0;36merror_handler\u001b[0;34m(*args, **kwargs)\u001b[0m\n\u001b[1;32m     62\u001b[0m     \u001b[0mfiltered_tb\u001b[0m \u001b[0;34m=\u001b[0m \u001b[0;32mNone\u001b[0m\u001b[0;34m\u001b[0m\u001b[0;34m\u001b[0m\u001b[0m\n\u001b[1;32m     63\u001b[0m     \u001b[0;32mtry\u001b[0m\u001b[0;34m:\u001b[0m\u001b[0;34m\u001b[0m\u001b[0;34m\u001b[0m\u001b[0m\n\u001b[0;32m---> 64\u001b[0;31m       \u001b[0;32mreturn\u001b[0m \u001b[0mfn\u001b[0m\u001b[0;34m(\u001b[0m\u001b[0;34m*\u001b[0m\u001b[0margs\u001b[0m\u001b[0;34m,\u001b[0m \u001b[0;34m**\u001b[0m\u001b[0mkwargs\u001b[0m\u001b[0;34m)\u001b[0m\u001b[0;34m\u001b[0m\u001b[0;34m\u001b[0m\u001b[0m\n\u001b[0m\u001b[1;32m     65\u001b[0m     \u001b[0;32mexcept\u001b[0m \u001b[0mException\u001b[0m \u001b[0;32mas\u001b[0m \u001b[0me\u001b[0m\u001b[0;34m:\u001b[0m  \u001b[0;31m# pylint: disable=broad-except\u001b[0m\u001b[0;34m\u001b[0m\u001b[0;34m\u001b[0m\u001b[0m\n\u001b[1;32m     66\u001b[0m       \u001b[0mfiltered_tb\u001b[0m \u001b[0;34m=\u001b[0m \u001b[0m_process_traceback_frames\u001b[0m\u001b[0;34m(\u001b[0m\u001b[0me\u001b[0m\u001b[0;34m.\u001b[0m\u001b[0m__traceback__\u001b[0m\u001b[0;34m)\u001b[0m\u001b[0;34m\u001b[0m\u001b[0;34m\u001b[0m\u001b[0m\n",
            "\u001b[0;32m/usr/local/lib/python3.7/dist-packages/keras/engine/training.py\u001b[0m in \u001b[0;36mpredict\u001b[0;34m(self, x, batch_size, verbose, steps, callbacks, max_queue_size, workers, use_multiprocessing)\u001b[0m\n\u001b[1;32m   2044\u001b[0m                   outputs, batch_outputs)\n\u001b[1;32m   2045\u001b[0m             \u001b[0mend_step\u001b[0m \u001b[0;34m=\u001b[0m \u001b[0mstep\u001b[0m \u001b[0;34m+\u001b[0m \u001b[0mdata_handler\u001b[0m\u001b[0;34m.\u001b[0m\u001b[0mstep_increment\u001b[0m\u001b[0;34m\u001b[0m\u001b[0;34m\u001b[0m\u001b[0m\n\u001b[0;32m-> 2046\u001b[0;31m             \u001b[0mcallbacks\u001b[0m\u001b[0;34m.\u001b[0m\u001b[0mon_predict_batch_end\u001b[0m\u001b[0;34m(\u001b[0m\u001b[0mend_step\u001b[0m\u001b[0;34m,\u001b[0m \u001b[0;34m{\u001b[0m\u001b[0;34m'outputs'\u001b[0m\u001b[0;34m:\u001b[0m \u001b[0mbatch_outputs\u001b[0m\u001b[0;34m}\u001b[0m\u001b[0;34m)\u001b[0m\u001b[0;34m\u001b[0m\u001b[0;34m\u001b[0m\u001b[0m\n\u001b[0m\u001b[1;32m   2047\u001b[0m       \u001b[0;32mif\u001b[0m \u001b[0mbatch_outputs\u001b[0m \u001b[0;32mis\u001b[0m \u001b[0;32mNone\u001b[0m\u001b[0;34m:\u001b[0m\u001b[0;34m\u001b[0m\u001b[0;34m\u001b[0m\u001b[0m\n\u001b[1;32m   2048\u001b[0m         raise ValueError('Unexpected result of `predict_function` '\n",
            "\u001b[0;32m/usr/local/lib/python3.7/dist-packages/keras/callbacks.py\u001b[0m in \u001b[0;36mon_predict_batch_end\u001b[0;34m(self, batch, logs)\u001b[0m\n\u001b[1;32m    480\u001b[0m     \"\"\"\n\u001b[1;32m    481\u001b[0m     \u001b[0;32mif\u001b[0m \u001b[0mself\u001b[0m\u001b[0;34m.\u001b[0m\u001b[0m_should_call_predict_batch_hooks\u001b[0m\u001b[0;34m:\u001b[0m\u001b[0;34m\u001b[0m\u001b[0;34m\u001b[0m\u001b[0m\n\u001b[0;32m--> 482\u001b[0;31m       \u001b[0mself\u001b[0m\u001b[0;34m.\u001b[0m\u001b[0m_call_batch_hook\u001b[0m\u001b[0;34m(\u001b[0m\u001b[0mModeKeys\u001b[0m\u001b[0;34m.\u001b[0m\u001b[0mPREDICT\u001b[0m\u001b[0;34m,\u001b[0m \u001b[0;34m'end'\u001b[0m\u001b[0;34m,\u001b[0m \u001b[0mbatch\u001b[0m\u001b[0;34m,\u001b[0m \u001b[0mlogs\u001b[0m\u001b[0;34m=\u001b[0m\u001b[0mlogs\u001b[0m\u001b[0;34m)\u001b[0m\u001b[0;34m\u001b[0m\u001b[0;34m\u001b[0m\u001b[0m\n\u001b[0m\u001b[1;32m    483\u001b[0m \u001b[0;34m\u001b[0m\u001b[0m\n\u001b[1;32m    484\u001b[0m   \u001b[0;32mdef\u001b[0m \u001b[0mon_train_begin\u001b[0m\u001b[0;34m(\u001b[0m\u001b[0mself\u001b[0m\u001b[0;34m,\u001b[0m \u001b[0mlogs\u001b[0m\u001b[0;34m=\u001b[0m\u001b[0;32mNone\u001b[0m\u001b[0;34m)\u001b[0m\u001b[0;34m:\u001b[0m\u001b[0;34m\u001b[0m\u001b[0;34m\u001b[0m\u001b[0m\n",
            "\u001b[0;32m/usr/local/lib/python3.7/dist-packages/keras/callbacks.py\u001b[0m in \u001b[0;36m_call_batch_hook\u001b[0;34m(self, mode, hook, batch, logs)\u001b[0m\n\u001b[1;32m    295\u001b[0m       \u001b[0mself\u001b[0m\u001b[0;34m.\u001b[0m\u001b[0m_call_batch_begin_hook\u001b[0m\u001b[0;34m(\u001b[0m\u001b[0mmode\u001b[0m\u001b[0;34m,\u001b[0m \u001b[0mbatch\u001b[0m\u001b[0;34m,\u001b[0m \u001b[0mlogs\u001b[0m\u001b[0;34m)\u001b[0m\u001b[0;34m\u001b[0m\u001b[0;34m\u001b[0m\u001b[0m\n\u001b[1;32m    296\u001b[0m     \u001b[0;32melif\u001b[0m \u001b[0mhook\u001b[0m \u001b[0;34m==\u001b[0m \u001b[0;34m'end'\u001b[0m\u001b[0;34m:\u001b[0m\u001b[0;34m\u001b[0m\u001b[0;34m\u001b[0m\u001b[0m\n\u001b[0;32m--> 297\u001b[0;31m       \u001b[0mself\u001b[0m\u001b[0;34m.\u001b[0m\u001b[0m_call_batch_end_hook\u001b[0m\u001b[0;34m(\u001b[0m\u001b[0mmode\u001b[0m\u001b[0;34m,\u001b[0m \u001b[0mbatch\u001b[0m\u001b[0;34m,\u001b[0m \u001b[0mlogs\u001b[0m\u001b[0;34m)\u001b[0m\u001b[0;34m\u001b[0m\u001b[0;34m\u001b[0m\u001b[0m\n\u001b[0m\u001b[1;32m    298\u001b[0m     \u001b[0;32melse\u001b[0m\u001b[0;34m:\u001b[0m\u001b[0;34m\u001b[0m\u001b[0;34m\u001b[0m\u001b[0m\n\u001b[1;32m    299\u001b[0m       raise ValueError(\n",
            "\u001b[0;32m/usr/local/lib/python3.7/dist-packages/keras/callbacks.py\u001b[0m in \u001b[0;36m_call_batch_end_hook\u001b[0;34m(self, mode, batch, logs)\u001b[0m\n\u001b[1;32m    316\u001b[0m       \u001b[0mself\u001b[0m\u001b[0;34m.\u001b[0m\u001b[0m_batch_times\u001b[0m\u001b[0;34m.\u001b[0m\u001b[0mappend\u001b[0m\u001b[0;34m(\u001b[0m\u001b[0mbatch_time\u001b[0m\u001b[0;34m)\u001b[0m\u001b[0;34m\u001b[0m\u001b[0;34m\u001b[0m\u001b[0m\n\u001b[1;32m    317\u001b[0m \u001b[0;34m\u001b[0m\u001b[0m\n\u001b[0;32m--> 318\u001b[0;31m     \u001b[0mself\u001b[0m\u001b[0;34m.\u001b[0m\u001b[0m_call_batch_hook_helper\u001b[0m\u001b[0;34m(\u001b[0m\u001b[0mhook_name\u001b[0m\u001b[0;34m,\u001b[0m \u001b[0mbatch\u001b[0m\u001b[0;34m,\u001b[0m \u001b[0mlogs\u001b[0m\u001b[0;34m)\u001b[0m\u001b[0;34m\u001b[0m\u001b[0;34m\u001b[0m\u001b[0m\n\u001b[0m\u001b[1;32m    319\u001b[0m \u001b[0;34m\u001b[0m\u001b[0m\n\u001b[1;32m    320\u001b[0m     \u001b[0;32mif\u001b[0m \u001b[0mlen\u001b[0m\u001b[0;34m(\u001b[0m\u001b[0mself\u001b[0m\u001b[0;34m.\u001b[0m\u001b[0m_batch_times\u001b[0m\u001b[0;34m)\u001b[0m \u001b[0;34m>=\u001b[0m \u001b[0mself\u001b[0m\u001b[0;34m.\u001b[0m\u001b[0m_num_batches_for_timing_check\u001b[0m\u001b[0;34m:\u001b[0m\u001b[0;34m\u001b[0m\u001b[0;34m\u001b[0m\u001b[0m\n",
            "\u001b[0;32m/usr/local/lib/python3.7/dist-packages/keras/callbacks.py\u001b[0m in \u001b[0;36m_call_batch_hook_helper\u001b[0;34m(self, hook_name, batch, logs)\u001b[0m\n\u001b[1;32m    354\u001b[0m     \u001b[0;32mfor\u001b[0m \u001b[0mcallback\u001b[0m \u001b[0;32min\u001b[0m \u001b[0mself\u001b[0m\u001b[0;34m.\u001b[0m\u001b[0mcallbacks\u001b[0m\u001b[0;34m:\u001b[0m\u001b[0;34m\u001b[0m\u001b[0;34m\u001b[0m\u001b[0m\n\u001b[1;32m    355\u001b[0m       \u001b[0mhook\u001b[0m \u001b[0;34m=\u001b[0m \u001b[0mgetattr\u001b[0m\u001b[0;34m(\u001b[0m\u001b[0mcallback\u001b[0m\u001b[0;34m,\u001b[0m \u001b[0mhook_name\u001b[0m\u001b[0;34m)\u001b[0m\u001b[0;34m\u001b[0m\u001b[0;34m\u001b[0m\u001b[0m\n\u001b[0;32m--> 356\u001b[0;31m       \u001b[0mhook\u001b[0m\u001b[0;34m(\u001b[0m\u001b[0mbatch\u001b[0m\u001b[0;34m,\u001b[0m \u001b[0mlogs\u001b[0m\u001b[0;34m)\u001b[0m\u001b[0;34m\u001b[0m\u001b[0;34m\u001b[0m\u001b[0m\n\u001b[0m\u001b[1;32m    357\u001b[0m \u001b[0;34m\u001b[0m\u001b[0m\n\u001b[1;32m    358\u001b[0m     \u001b[0;32mif\u001b[0m \u001b[0mself\u001b[0m\u001b[0;34m.\u001b[0m\u001b[0m_check_timing\u001b[0m\u001b[0;34m:\u001b[0m\u001b[0;34m\u001b[0m\u001b[0;34m\u001b[0m\u001b[0m\n",
            "\u001b[0;32m/usr/local/lib/python3.7/dist-packages/keras/callbacks.py\u001b[0m in \u001b[0;36mon_predict_batch_end\u001b[0;34m(self, batch, logs)\u001b[0m\n\u001b[1;32m   1040\u001b[0m   \u001b[0;32mdef\u001b[0m \u001b[0mon_predict_batch_end\u001b[0m\u001b[0;34m(\u001b[0m\u001b[0mself\u001b[0m\u001b[0;34m,\u001b[0m \u001b[0mbatch\u001b[0m\u001b[0;34m,\u001b[0m \u001b[0mlogs\u001b[0m\u001b[0;34m=\u001b[0m\u001b[0;32mNone\u001b[0m\u001b[0;34m)\u001b[0m\u001b[0;34m:\u001b[0m\u001b[0;34m\u001b[0m\u001b[0;34m\u001b[0m\u001b[0m\n\u001b[1;32m   1041\u001b[0m     \u001b[0;31m# Don't pass prediction results.\u001b[0m\u001b[0;34m\u001b[0m\u001b[0;34m\u001b[0m\u001b[0;34m\u001b[0m\u001b[0m\n\u001b[0;32m-> 1042\u001b[0;31m     \u001b[0mself\u001b[0m\u001b[0;34m.\u001b[0m\u001b[0m_batch_update_progbar\u001b[0m\u001b[0;34m(\u001b[0m\u001b[0mbatch\u001b[0m\u001b[0;34m,\u001b[0m \u001b[0;32mNone\u001b[0m\u001b[0;34m)\u001b[0m\u001b[0;34m\u001b[0m\u001b[0;34m\u001b[0m\u001b[0m\n\u001b[0m\u001b[1;32m   1043\u001b[0m \u001b[0;34m\u001b[0m\u001b[0m\n\u001b[1;32m   1044\u001b[0m   \u001b[0;32mdef\u001b[0m \u001b[0mon_epoch_end\u001b[0m\u001b[0;34m(\u001b[0m\u001b[0mself\u001b[0m\u001b[0;34m,\u001b[0m \u001b[0mepoch\u001b[0m\u001b[0;34m,\u001b[0m \u001b[0mlogs\u001b[0m\u001b[0;34m=\u001b[0m\u001b[0;32mNone\u001b[0m\u001b[0;34m)\u001b[0m\u001b[0;34m:\u001b[0m\u001b[0;34m\u001b[0m\u001b[0;34m\u001b[0m\u001b[0m\n",
            "\u001b[0;32m/usr/local/lib/python3.7/dist-packages/keras/callbacks.py\u001b[0m in \u001b[0;36m_batch_update_progbar\u001b[0;34m(self, batch, logs)\u001b[0m\n\u001b[1;32m   1105\u001b[0m       \u001b[0;31m# Only block async when verbose = 1.\u001b[0m\u001b[0;34m\u001b[0m\u001b[0;34m\u001b[0m\u001b[0;34m\u001b[0m\u001b[0m\n\u001b[1;32m   1106\u001b[0m       \u001b[0mlogs\u001b[0m \u001b[0;34m=\u001b[0m \u001b[0mtf_utils\u001b[0m\u001b[0;34m.\u001b[0m\u001b[0msync_to_numpy_or_python_type\u001b[0m\u001b[0;34m(\u001b[0m\u001b[0mlogs\u001b[0m\u001b[0;34m)\u001b[0m\u001b[0;34m\u001b[0m\u001b[0;34m\u001b[0m\u001b[0m\n\u001b[0;32m-> 1107\u001b[0;31m       \u001b[0mself\u001b[0m\u001b[0;34m.\u001b[0m\u001b[0mprogbar\u001b[0m\u001b[0;34m.\u001b[0m\u001b[0mupdate\u001b[0m\u001b[0;34m(\u001b[0m\u001b[0mself\u001b[0m\u001b[0;34m.\u001b[0m\u001b[0mseen\u001b[0m\u001b[0;34m,\u001b[0m \u001b[0mlist\u001b[0m\u001b[0;34m(\u001b[0m\u001b[0mlogs\u001b[0m\u001b[0;34m.\u001b[0m\u001b[0mitems\u001b[0m\u001b[0;34m(\u001b[0m\u001b[0;34m)\u001b[0m\u001b[0;34m)\u001b[0m\u001b[0;34m,\u001b[0m \u001b[0mfinalize\u001b[0m\u001b[0;34m=\u001b[0m\u001b[0;32mFalse\u001b[0m\u001b[0;34m)\u001b[0m\u001b[0;34m\u001b[0m\u001b[0;34m\u001b[0m\u001b[0m\n\u001b[0m\u001b[1;32m   1108\u001b[0m \u001b[0;34m\u001b[0m\u001b[0m\n\u001b[1;32m   1109\u001b[0m   \u001b[0;32mdef\u001b[0m \u001b[0m_finalize_progbar\u001b[0m\u001b[0;34m(\u001b[0m\u001b[0mself\u001b[0m\u001b[0;34m,\u001b[0m \u001b[0mlogs\u001b[0m\u001b[0;34m,\u001b[0m \u001b[0mcounter\u001b[0m\u001b[0;34m)\u001b[0m\u001b[0;34m:\u001b[0m\u001b[0;34m\u001b[0m\u001b[0;34m\u001b[0m\u001b[0m\n",
            "\u001b[0;32m/usr/local/lib/python3.7/dist-packages/keras/utils/generic_utils.py\u001b[0m in \u001b[0;36mupdate\u001b[0;34m(self, current, values, finalize)\u001b[0m\n\u001b[1;32m    974\u001b[0m \u001b[0;34m\u001b[0m\u001b[0m\n\u001b[1;32m    975\u001b[0m       \u001b[0mmessage\u001b[0m \u001b[0;34m+=\u001b[0m \u001b[0minfo\u001b[0m\u001b[0;34m\u001b[0m\u001b[0;34m\u001b[0m\u001b[0m\n\u001b[0;32m--> 976\u001b[0;31m       \u001b[0mio_utils\u001b[0m\u001b[0;34m.\u001b[0m\u001b[0mprint_msg\u001b[0m\u001b[0;34m(\u001b[0m\u001b[0mmessage\u001b[0m\u001b[0;34m,\u001b[0m \u001b[0mline_break\u001b[0m\u001b[0;34m=\u001b[0m\u001b[0;32mFalse\u001b[0m\u001b[0;34m)\u001b[0m\u001b[0;34m\u001b[0m\u001b[0;34m\u001b[0m\u001b[0m\n\u001b[0m\u001b[1;32m    977\u001b[0m       \u001b[0mmessage\u001b[0m \u001b[0;34m=\u001b[0m \u001b[0;34m''\u001b[0m\u001b[0;34m\u001b[0m\u001b[0;34m\u001b[0m\u001b[0m\n\u001b[1;32m    978\u001b[0m \u001b[0;34m\u001b[0m\u001b[0m\n",
            "\u001b[0;32m/usr/local/lib/python3.7/dist-packages/keras/utils/io_utils.py\u001b[0m in \u001b[0;36mprint_msg\u001b[0;34m(message, line_break)\u001b[0m\n\u001b[1;32m     76\u001b[0m     \u001b[0;32melse\u001b[0m\u001b[0;34m:\u001b[0m\u001b[0;34m\u001b[0m\u001b[0;34m\u001b[0m\u001b[0m\n\u001b[1;32m     77\u001b[0m       \u001b[0msys\u001b[0m\u001b[0;34m.\u001b[0m\u001b[0mstdout\u001b[0m\u001b[0;34m.\u001b[0m\u001b[0mwrite\u001b[0m\u001b[0;34m(\u001b[0m\u001b[0mmessage\u001b[0m\u001b[0;34m)\u001b[0m\u001b[0;34m\u001b[0m\u001b[0;34m\u001b[0m\u001b[0m\n\u001b[0;32m---> 78\u001b[0;31m     \u001b[0msys\u001b[0m\u001b[0;34m.\u001b[0m\u001b[0mstdout\u001b[0m\u001b[0;34m.\u001b[0m\u001b[0mflush\u001b[0m\u001b[0;34m(\u001b[0m\u001b[0;34m)\u001b[0m\u001b[0;34m\u001b[0m\u001b[0;34m\u001b[0m\u001b[0m\n\u001b[0m\u001b[1;32m     79\u001b[0m   \u001b[0;32melse\u001b[0m\u001b[0;34m:\u001b[0m\u001b[0;34m\u001b[0m\u001b[0;34m\u001b[0m\u001b[0m\n\u001b[1;32m     80\u001b[0m     \u001b[0mlogging\u001b[0m\u001b[0;34m.\u001b[0m\u001b[0minfo\u001b[0m\u001b[0;34m(\u001b[0m\u001b[0mmessage\u001b[0m\u001b[0;34m)\u001b[0m\u001b[0;34m\u001b[0m\u001b[0;34m\u001b[0m\u001b[0m\n",
            "\u001b[0;32m/usr/local/lib/python3.7/dist-packages/ipykernel/iostream.py\u001b[0m in \u001b[0;36mflush\u001b[0;34m(self)\u001b[0m\n\u001b[1;32m    350\u001b[0m                 \u001b[0mself\u001b[0m\u001b[0;34m.\u001b[0m\u001b[0mpub_thread\u001b[0m\u001b[0;34m.\u001b[0m\u001b[0mschedule\u001b[0m\u001b[0;34m(\u001b[0m\u001b[0mevt\u001b[0m\u001b[0;34m.\u001b[0m\u001b[0mset\u001b[0m\u001b[0;34m)\u001b[0m\u001b[0;34m\u001b[0m\u001b[0;34m\u001b[0m\u001b[0m\n\u001b[1;32m    351\u001b[0m                 \u001b[0;31m# and give a timeout to avoid\u001b[0m\u001b[0;34m\u001b[0m\u001b[0;34m\u001b[0m\u001b[0;34m\u001b[0m\u001b[0m\n\u001b[0;32m--> 352\u001b[0;31m                 \u001b[0;32mif\u001b[0m \u001b[0;32mnot\u001b[0m \u001b[0mevt\u001b[0m\u001b[0;34m.\u001b[0m\u001b[0mwait\u001b[0m\u001b[0;34m(\u001b[0m\u001b[0mself\u001b[0m\u001b[0;34m.\u001b[0m\u001b[0mflush_timeout\u001b[0m\u001b[0;34m)\u001b[0m\u001b[0;34m:\u001b[0m\u001b[0;34m\u001b[0m\u001b[0;34m\u001b[0m\u001b[0m\n\u001b[0m\u001b[1;32m    353\u001b[0m                     \u001b[0;31m# write directly to __stderr__ instead of warning because\u001b[0m\u001b[0;34m\u001b[0m\u001b[0;34m\u001b[0m\u001b[0;34m\u001b[0m\u001b[0m\n\u001b[1;32m    354\u001b[0m                     \u001b[0;31m# if this is happening sys.stderr may be the problem.\u001b[0m\u001b[0;34m\u001b[0m\u001b[0;34m\u001b[0m\u001b[0;34m\u001b[0m\u001b[0m\n",
            "\u001b[0;32m/usr/lib/python3.7/threading.py\u001b[0m in \u001b[0;36mwait\u001b[0;34m(self, timeout)\u001b[0m\n\u001b[1;32m    550\u001b[0m             \u001b[0msignaled\u001b[0m \u001b[0;34m=\u001b[0m \u001b[0mself\u001b[0m\u001b[0;34m.\u001b[0m\u001b[0m_flag\u001b[0m\u001b[0;34m\u001b[0m\u001b[0;34m\u001b[0m\u001b[0m\n\u001b[1;32m    551\u001b[0m             \u001b[0;32mif\u001b[0m \u001b[0;32mnot\u001b[0m \u001b[0msignaled\u001b[0m\u001b[0;34m:\u001b[0m\u001b[0;34m\u001b[0m\u001b[0;34m\u001b[0m\u001b[0m\n\u001b[0;32m--> 552\u001b[0;31m                 \u001b[0msignaled\u001b[0m \u001b[0;34m=\u001b[0m \u001b[0mself\u001b[0m\u001b[0;34m.\u001b[0m\u001b[0m_cond\u001b[0m\u001b[0;34m.\u001b[0m\u001b[0mwait\u001b[0m\u001b[0;34m(\u001b[0m\u001b[0mtimeout\u001b[0m\u001b[0;34m)\u001b[0m\u001b[0;34m\u001b[0m\u001b[0;34m\u001b[0m\u001b[0m\n\u001b[0m\u001b[1;32m    553\u001b[0m             \u001b[0;32mreturn\u001b[0m \u001b[0msignaled\u001b[0m\u001b[0;34m\u001b[0m\u001b[0;34m\u001b[0m\u001b[0m\n\u001b[1;32m    554\u001b[0m \u001b[0;34m\u001b[0m\u001b[0m\n",
            "\u001b[0;32m/usr/lib/python3.7/threading.py\u001b[0m in \u001b[0;36mwait\u001b[0;34m(self, timeout)\u001b[0m\n\u001b[1;32m    298\u001b[0m             \u001b[0;32melse\u001b[0m\u001b[0;34m:\u001b[0m\u001b[0;34m\u001b[0m\u001b[0;34m\u001b[0m\u001b[0m\n\u001b[1;32m    299\u001b[0m                 \u001b[0;32mif\u001b[0m \u001b[0mtimeout\u001b[0m \u001b[0;34m>\u001b[0m \u001b[0;36m0\u001b[0m\u001b[0;34m:\u001b[0m\u001b[0;34m\u001b[0m\u001b[0;34m\u001b[0m\u001b[0m\n\u001b[0;32m--> 300\u001b[0;31m                     \u001b[0mgotit\u001b[0m \u001b[0;34m=\u001b[0m \u001b[0mwaiter\u001b[0m\u001b[0;34m.\u001b[0m\u001b[0macquire\u001b[0m\u001b[0;34m(\u001b[0m\u001b[0;32mTrue\u001b[0m\u001b[0;34m,\u001b[0m \u001b[0mtimeout\u001b[0m\u001b[0;34m)\u001b[0m\u001b[0;34m\u001b[0m\u001b[0;34m\u001b[0m\u001b[0m\n\u001b[0m\u001b[1;32m    301\u001b[0m                 \u001b[0;32melse\u001b[0m\u001b[0;34m:\u001b[0m\u001b[0;34m\u001b[0m\u001b[0;34m\u001b[0m\u001b[0m\n\u001b[1;32m    302\u001b[0m                     \u001b[0mgotit\u001b[0m \u001b[0;34m=\u001b[0m \u001b[0mwaiter\u001b[0m\u001b[0;34m.\u001b[0m\u001b[0macquire\u001b[0m\u001b[0;34m(\u001b[0m\u001b[0;32mFalse\u001b[0m\u001b[0;34m)\u001b[0m\u001b[0;34m\u001b[0m\u001b[0;34m\u001b[0m\u001b[0m\n",
            "\u001b[0;31mKeyboardInterrupt\u001b[0m: "
          ]
        }
      ]
    }
  ]
}